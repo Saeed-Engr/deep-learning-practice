{
  "nbformat": 4,
  "nbformat_minor": 0,
  "metadata": {
    "accelerator": "GPU",
    "colab": {
      "name": "grapes_model.ipynb",
      "provenance": [],
      "collapsed_sections": []
    },
    "kernelspec": {
      "display_name": "Python 3",
      "name": "python3"
    },
    "language_info": {
      "name": "python"
    }
  },
  "cells": [
    {
      "cell_type": "code",
      "metadata": {
        "id": "yeAjY2wA3Z4-"
      },
      "source": [
        "from tensorflow.keras import layers\n",
        "from tensorflow.keras import models\n",
        "model = models.Sequential()\n",
        "model.add(layers.Conv2D(32, (3, 3), activation='relu',\n",
        "input_shape=(150, 150, 3)))\n",
        "model.add(layers.MaxPooling2D((2, 2)))\n",
        "model.add(layers.Conv2D(64, (3, 3), activation='relu'))\n",
        "model.add(layers.MaxPooling2D((2, 2)))\n",
        "model.add(layers.Conv2D(128, (3, 3), activation='relu'))\n",
        "model.add(layers.MaxPooling2D((2, 2)))\n",
        "model.add(layers.Conv2D(128, (3, 3), activation='relu'))\n",
        "model.add(layers.MaxPooling2D((2, 2)))\n",
        "model.add(layers.Flatten())\n",
        "model.add(layers.Dense(512, activation='relu'))\n",
        "model.add(layers.Dense(128, activation='relu'))\n",
        "\n",
        "model.add(layers.Dense(4, activation='softmax'))"
      ],
      "execution_count": 40,
      "outputs": []
    },
    {
      "cell_type": "code",
      "metadata": {
        "id": "--MAmIX9QT4X"
      },
      "source": [
        "from tensorflow.keras import optimizers\n",
        "model.compile(loss='categorical_crossentropy',\n",
        "optimizer=optimizers.RMSprop(learning_rate=1e-4),\n",
        "metrics=['acc'])"
      ],
      "execution_count": 41,
      "outputs": []
    },
    {
      "cell_type": "code",
      "metadata": {
        "id": "S8DTIquVQV6q"
      },
      "source": [
        "from tensorflow.keras.preprocessing.image import ImageDataGenerator\n",
        "train_datagen = ImageDataGenerator(rescale=1./255)\n",
        "validation_datagen = ImageDataGenerator(rescale=1./255)\n",
        "test_datagen = ImageDataGenerator(rescale=1./255)"
      ],
      "execution_count": 42,
      "outputs": []
    },
    {
      "cell_type": "code",
      "metadata": {
        "colab": {
          "base_uri": "https://localhost:8080/"
        },
        "id": "2jfBGFHSQcpY",
        "outputId": "00d5cc5e-05cc-4f8d-c8df-9377ccfcf118"
      },
      "source": [
        "train_generator = train_datagen.flow_from_directory(\n",
        "'/content/drive/MyDrive/DEEP_LEARNING _DATASETS/preprocessed/train',\n",
        "target_size=(150, 150),batch_size=32,class_mode='categorical')"
      ],
      "execution_count": 43,
      "outputs": [
        {
          "output_type": "stream",
          "text": [
            "Found 1000 images belonging to 4 classes.\n"
          ],
          "name": "stdout"
        }
      ]
    },
    {
      "cell_type": "code",
      "metadata": {
        "colab": {
          "base_uri": "https://localhost:8080/"
        },
        "id": "2t2UlWFDQjIh",
        "outputId": "337e489a-76e1-49f2-df95-4525363fea29"
      },
      "source": [
        "validation_generator = validation_datagen.flow_from_directory('/content/drive/MyDrive/DEEP_LEARNING _DATASETS/preprocessed/validation',\n",
        "                                                             target_size=(150,150),batch_size=32,class_mode=\"categorical\")"
      ],
      "execution_count": 44,
      "outputs": [
        {
          "output_type": "stream",
          "text": [
            "Found 400 images belonging to 4 classes.\n"
          ],
          "name": "stdout"
        }
      ]
    },
    {
      "cell_type": "code",
      "metadata": {
        "colab": {
          "base_uri": "https://localhost:8080/"
        },
        "id": "4GuAAs1mQszU",
        "outputId": "a866ff7d-9e09-4374-be22-31d9f597cce4"
      },
      "source": [
        "test_generator = test_datagen.flow_from_directory(\n",
        "'/content/drive/MyDrive/DEEP_LEARNING _DATASETS/preprocessed/test',target_size=(150, 150),\n",
        "batch_size=32,\n",
        "class_mode='categorical')"
      ],
      "execution_count": 45,
      "outputs": [
        {
          "output_type": "stream",
          "text": [
            "Found 207 images belonging to 4 classes.\n"
          ],
          "name": "stdout"
        }
      ]
    },
    {
      "cell_type": "code",
      "metadata": {
        "colab": {
          "base_uri": "https://localhost:8080/"
        },
        "id": "LSum7hcuQzYN",
        "outputId": "ed63d209-c834-4022-b3f8-9015d7edf24d"
      },
      "source": [
        "\n",
        "history = model.fit_generator(\n",
        "train_generator,\n",
        "steps_per_epoch=30,\n",
        "epochs=10,\n",
        "validation_data=validation_generator,\n",
        "validation_steps=10)"
      ],
      "execution_count": 46,
      "outputs": [
        {
          "output_type": "stream",
          "text": [
            "/usr/local/lib/python3.7/dist-packages/tensorflow/python/keras/engine/training.py:1940: UserWarning: `Model.fit_generator` is deprecated and will be removed in a future version. Please use `Model.fit`, which supports generators.\n",
            "  warnings.warn('`Model.fit_generator` is deprecated and '\n"
          ],
          "name": "stderr"
        },
        {
          "output_type": "stream",
          "text": [
            "Epoch 1/10\n",
            "30/30 [==============================] - 4s 117ms/step - loss: 1.2502 - acc: 0.4199 - val_loss: 0.9356 - val_acc: 0.7469\n",
            "Epoch 2/10\n",
            "30/30 [==============================] - 3s 109ms/step - loss: 0.7969 - acc: 0.6923 - val_loss: 0.8156 - val_acc: 0.5938\n",
            "Epoch 3/10\n",
            "30/30 [==============================] - 3s 110ms/step - loss: 0.5912 - acc: 0.7831 - val_loss: 0.7349 - val_acc: 0.6594\n",
            "Epoch 4/10\n",
            "30/30 [==============================] - 3s 109ms/step - loss: 0.5263 - acc: 0.8024 - val_loss: 0.5770 - val_acc: 0.7188\n",
            "Epoch 5/10\n",
            "30/30 [==============================] - 3s 111ms/step - loss: 0.4639 - acc: 0.8109 - val_loss: 0.3892 - val_acc: 0.8406\n",
            "Epoch 6/10\n",
            "30/30 [==============================] - 3s 109ms/step - loss: 0.3835 - acc: 0.8515 - val_loss: 0.3148 - val_acc: 0.9094\n",
            "Epoch 7/10\n",
            "30/30 [==============================] - 3s 110ms/step - loss: 0.3562 - acc: 0.8729 - val_loss: 0.6250 - val_acc: 0.7281\n",
            "Epoch 8/10\n",
            "30/30 [==============================] - 3s 109ms/step - loss: 0.3627 - acc: 0.8600 - val_loss: 0.3325 - val_acc: 0.8719\n",
            "Epoch 9/10\n",
            "30/30 [==============================] - 3s 109ms/step - loss: 0.2940 - acc: 0.8814 - val_loss: 0.2709 - val_acc: 0.8969\n",
            "Epoch 10/10\n",
            "30/30 [==============================] - 3s 110ms/step - loss: 0.2839 - acc: 0.8964 - val_loss: 0.2424 - val_acc: 0.9250\n"
          ],
          "name": "stdout"
        }
      ]
    },
    {
      "cell_type": "code",
      "metadata": {
        "id": "M1GaJ-iQQ2ec",
        "colab": {
          "base_uri": "https://localhost:8080/",
          "height": 545
        },
        "outputId": "0bb31809-5d12-4eb9-ed91-8706542aa129"
      },
      "source": [
        "import matplotlib.pyplot as plt\n",
        "acc = history.history['acc']\n",
        "val_acc = history.history['val_acc']\n",
        "loss = history.history['loss']\n",
        "val_loss = history.history['val_loss']\n",
        "epochs = range(1, len(acc) + 1)\n",
        "plt.plot(epochs, acc, 'bo', label='Training acc')\n",
        "plt.plot(epochs, val_acc, 'b', label='Validation acc')\n",
        "plt.title('Training and validation accuracy')\n",
        "plt.legend()\n",
        "plt.figure()\n",
        "plt.plot(epochs, loss, 'bo', label='Training loss')\n",
        "plt.plot(epochs, val_loss, 'b', label='Validation loss')\n",
        "plt.title('Training and validation loss')\n",
        "plt.legend()\n",
        "plt.show()"
      ],
      "execution_count": 47,
      "outputs": [
        {
          "output_type": "display_data",
          "data": {
            "image/png": "[encoded data removed]",
            "text/plain": [
              "<Figure size 432x288 with 1 Axes>"
            ]
          },
          "metadata": {
            "tags": [],
            "needs_background": "light"
          }
        },
        {
          "output_type": "display_data",
          "data": {
            "image/png": "[encoded data removed]",
            "text/plain": [
              "<Figure size 432x288 with 1 Axes>"
            ]
          },
          "metadata": {
            "tags": [],
            "needs_background": "light"
          }
        }
      ]
    },
    {
      "cell_type": "code",
      "metadata": {
        "colab": {
          "base_uri": "https://localhost:8080/"
        },
        "id": "nQbyEfaE5MRV",
        "outputId": "72ebc16c-8a2d-492d-b24b-e578e89f978a"
      },
      "source": [
        "model.evaluate(test_generator)"
      ],
      "execution_count": 48,
      "outputs": [
        {
          "output_type": "stream",
          "text": [
            "7/7 [==============================] - 47s 8s/step - loss: 0.2524 - acc: 0.9130\n"
          ],
          "name": "stdout"
        },
        {
          "output_type": "execute_result",
          "data": {
            "text/plain": [
              "[0.25235697627067566, 0.9130434989929199]"
            ]
          },
          "metadata": {
            "tags": []
          },
          "execution_count": 48
        }
      ]
    },
    {
      "cell_type": "code",
      "metadata": {
        "id": "anaLOnNy6Pl0"
      },
      "source": [
        "import tensorflow"
      ],
      "execution_count": 3,
      "outputs": []
    },
    {
      "cell_type": "code",
      "metadata": {
        "id": "bK_taqtFHiIR"
      },
      "source": [
        "model = tensorflow.keras.models.load_model('/content/grapes_model_91_accuracy.h5')"
      ],
      "execution_count": 5,
      "outputs": []
    },
    {
      "cell_type": "code",
      "metadata": {
        "id": "QtcC_ZdpI4Ac"
      },
      "source": [
        "from tensorflow.keras.preprocessing import image\n",
        "import numpy as np"
      ],
      "execution_count": 10,
      "outputs": []
    },
    {
      "cell_type": "code",
      "metadata": {
        "id": "sD_RHxi3HiK-"
      },
      "source": [
        "img = image.load_img(\"/content/00cff577-afd4-4e36-ac9c-a52aa6ae5949___FAM_B.Rot 0508_final_masked.jpg\", target_size=(150,150))\n",
        "x=image.img_to_array(img) / 255\n",
        "resized_img_np = np.expand_dims(x,axis=0)\n",
        "prediction = model.predict(resized_img_np)"
      ],
      "execution_count": 11,
      "outputs": []
    },
    {
      "cell_type": "code",
      "metadata": {
        "colab": {
          "base_uri": "https://localhost:8080/"
        },
        "id": "6pyLu8RPIsZx",
        "outputId": "ee11a2c4-2394-4c58-97ac-9a34d1637c06"
      },
      "source": [
        "prediction"
      ],
      "execution_count": 29,
      "outputs": [
        {
          "output_type": "execute_result",
          "data": {
            "text/plain": [
              "array([[0.6837362 , 0.07288897, 0.23173718, 0.01163759]], dtype=float32)"
            ]
          },
          "metadata": {
            "tags": []
          },
          "execution_count": 29
        }
      ]
    },
    {
      "cell_type": "code",
      "metadata": {
        "id": "Ids2pdu7MiFZ"
      },
      "source": [
        ""
      ],
      "execution_count": null,
      "outputs": []
    }
  ]
}