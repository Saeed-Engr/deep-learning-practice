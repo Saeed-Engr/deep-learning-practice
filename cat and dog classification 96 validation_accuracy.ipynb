{
  "nbformat": 4,
  "nbformat_minor": 0,
  "metadata": {
    "colab": {
      "name": "Pre_trained_model_without_and_with_augmentation.ipynb",
      "provenance": []
    },
    "kernelspec": {
      "name": "python3",
      "display_name": "Python 3"
    },
    "language_info": {
      "name": "python"
    },
    "accelerator": "GPU"
  },
  "cells": [
    {
      "cell_type": "code",
      "metadata": {
        "id": "5_SwnG_mOm87"
      },
      "source": [
        "import tensorflow\n",
        "from tensorflow import keras"
      ],
      "execution_count": null,
      "outputs": []
    },
    {
      "cell_type": "code",
      "metadata": {
        "id": "gb_5F0VMP5fn",
        "colab": {
          "base_uri": "https://localhost:8080/"
        },
        "outputId": "7258e3cc-7214-4ca2-cb53-08b9fac792e6"
      },
      "source": [
        "from keras.applications.vgg16 import VGG16\n",
        "conv_base = VGG16(weights='imagenet',\n",
        "                  include_top=False,\n",
        "                  input_shape=(150, 150, 3))\n"
      ],
      "execution_count": null,
      "outputs": [
        {
          "output_type": "stream",
          "text": [
            "Downloading data from https://storage.googleapis.com/tensorflow/keras-applications/vgg16/vgg16_weights_tf_dim_ordering_tf_kernels_notop.h5\n",
            "58892288/58889256 [==============================] - 1s 0us/step\n",
            "58900480/58889256 [==============================] - 1s 0us/step\n"
          ],
          "name": "stdout"
        }
      ]
    },
    {
      "cell_type": "code",
      "metadata": {
        "colab": {
          "base_uri": "https://localhost:8080/"
        },
        "id": "_IaLwWEgMuaY",
        "outputId": "c799a1fd-ff3a-44c9-f788-7881f36e7129"
      },
      "source": [
        "conv_base.summary()\n"
      ],
      "execution_count": null,
      "outputs": [
        {
          "output_type": "stream",
          "text": [
            "Model: \"vgg16\"\n",
            "_________________________________________________________________\n",
            "Layer (type)                 Output Shape              Param #   \n",
            "=================================================================\n",
            "input_2 (InputLayer)         [(None, 150, 150, 3)]     0         \n",
            "_________________________________________________________________\n",
            "block1_conv1 (Conv2D)        (None, 150, 150, 64)      1792      \n",
            "_________________________________________________________________\n",
            "block1_conv2 (Conv2D)        (None, 150, 150, 64)      36928     \n",
            "_________________________________________________________________\n",
            "block1_pool (MaxPooling2D)   (None, 75, 75, 64)        0         \n",
            "_________________________________________________________________\n",
            "block2_conv1 (Conv2D)        (None, 75, 75, 128)       73856     \n",
            "_________________________________________________________________\n",
            "block2_conv2 (Conv2D)        (None, 75, 75, 128)       147584    \n",
            "_________________________________________________________________\n",
            "block2_pool (MaxPooling2D)   (None, 37, 37, 128)       0         \n",
            "_________________________________________________________________\n",
            "block3_conv1 (Conv2D)        (None, 37, 37, 256)       295168    \n",
            "_________________________________________________________________\n",
            "block3_conv2 (Conv2D)        (None, 37, 37, 256)       590080    \n",
            "_________________________________________________________________\n",
            "block3_conv3 (Conv2D)        (None, 37, 37, 256)       590080    \n",
            "_________________________________________________________________\n",
            "block3_pool (MaxPooling2D)   (None, 18, 18, 256)       0         \n",
            "_________________________________________________________________\n",
            "block4_conv1 (Conv2D)        (None, 18, 18, 512)       1180160   \n",
            "_________________________________________________________________\n",
            "block4_conv2 (Conv2D)        (None, 18, 18, 512)       2359808   \n",
            "_________________________________________________________________\n",
            "block4_conv3 (Conv2D)        (None, 18, 18, 512)       2359808   \n",
            "_________________________________________________________________\n",
            "block4_pool (MaxPooling2D)   (None, 9, 9, 512)         0         \n",
            "_________________________________________________________________\n",
            "block5_conv1 (Conv2D)        (None, 9, 9, 512)         2359808   \n",
            "_________________________________________________________________\n",
            "block5_conv2 (Conv2D)        (None, 9, 9, 512)         2359808   \n",
            "_________________________________________________________________\n",
            "block5_conv3 (Conv2D)        (None, 9, 9, 512)         2359808   \n",
            "_________________________________________________________________\n",
            "block5_pool (MaxPooling2D)   (None, 4, 4, 512)         0         \n",
            "=================================================================\n",
            "Total params: 14,714,688\n",
            "Trainable params: 14,714,688\n",
            "Non-trainable params: 0\n",
            "_________________________________________________________________\n"
          ],
          "name": "stdout"
        }
      ]
    },
    {
      "cell_type": "markdown",
      "metadata": {
        "id": "X9x1qTIlOX4p"
      },
      "source": [
        "##FEATURE EXTRACTION WITHOUT DATA AUGMENTATION\n"
      ]
    },
    {
      "cell_type": "code",
      "metadata": {
        "id": "sblMHE79M6ro"
      },
      "source": [
        "import os\n",
        "import numpy as np\n",
        "from tensorflow.keras.preprocessing.image import ImageDataGenerator\n",
        "base_dir       = \"/content/drive/MyDrive/cat and dog\"\n",
        "train_dir      = \"/content/drive/MyDrive/cat and dog/train\"\n",
        "validation_dir = \"/content/drive/MyDrive/cat and dog/validation\"\n",
        "test_dir       = \"/content/drive/MyDrive/cat and dog/test\"\n",
        "\n",
        "datagen = ImageDataGenerator(rescale=1./255)\n",
        "batch_size = 30\n",
        "\n",
        "def extract_features(directory, sample_count):   \n",
        "    features = np.zeros(shape=(sample_count, 4, 4, 512))\n",
        "    labels = np.zeros(shape=(sample_count))\n",
        "    \n",
        "    generator = datagen.flow_from_directory(\n",
        "                                       directory,\n",
        "                                       target_size=(150, 150),\n",
        "                                       batch_size=batch_size,\n",
        "                                       class_mode='binary')\n",
        "\n",
        "    i=0\n",
        "    for inputs_batch, labels_batch in generator:\n",
        "        features_batch = conv_base.predict(inputs_batch)\n",
        "        features[i * batch_size : (i + 1) * batch_size] = features_batch\n",
        "        labels[i * batch_size : (i + 1) * batch_size] = labels_batch\n",
        "        i += 1\n",
        "        if i * batch_size >= sample_count:\n",
        "        \n",
        "            break\n",
        "    return features, labels"
      ],
      "execution_count": null,
      "outputs": []
    },
    {
      "cell_type": "code",
      "metadata": {
        "id": "gClzXMUeRbPO",
        "colab": {
          "base_uri": "https://localhost:8080/"
        },
        "outputId": "fc993312-a3a0-4648-f646-57b62f21a4ff"
      },
      "source": [
        "train_features, train_labels = extract_features(train_dir,2000 )\n",
        "validation_features, validation_labels = extract_features(validation_dir,1000 )\n",
        "test_features, test_labels = extract_features(test_dir,1000)"
      ],
      "execution_count": null,
      "outputs": [
        {
          "output_type": "stream",
          "text": [
            "Found 2000 images belonging to 2 classes.\n",
            "Found 1000 images belonging to 2 classes.\n",
            "Found 1000 images belonging to 2 classes.\n"
          ],
          "name": "stdout"
        }
      ]
    },
    {
      "cell_type": "code",
      "metadata": {
        "id": "po6qwek2Nfv7"
      },
      "source": [
        "train_features = np.reshape(train_features, (2000, 4*4* 512))\n",
        "validation_features = np.reshape(validation_features, (1000, 4*4* 512))\n",
        "test_features = np.reshape(test_features, (1000, 4*4* 512))"
      ],
      "execution_count": null,
      "outputs": []
    },
    {
      "cell_type": "code",
      "metadata": {
        "colab": {
          "base_uri": "https://localhost:8080/"
        },
        "id": "iJUj0koXNkze",
        "outputId": "117b7df3-5379-409f-9723-a64b27c94e1e"
      },
      "source": [
        "from tensorflow.keras import models\n",
        "from tensorflow.keras import layers\n",
        "from tensorflow.keras import optimizers\n",
        "model = models.Sequential()\n",
        "model.add(layers.Dense(256, activation='relu', input_dim=4 * 4 * 512))\n",
        "model.add(layers.Dropout(0.5))\n",
        "model.add(layers.Dense(1, activation='sigmoid'))\n",
        "model.compile(optimizer=optimizers.RMSprop(lr=2e-5),\n",
        "loss='binary_crossentropy',\n",
        "metrics=['acc'])\n"
      ],
      "execution_count": null,
      "outputs": [
        {
          "output_type": "stream",
          "text": [
            "/usr/local/lib/python3.7/dist-packages/keras/optimizer_v2/optimizer_v2.py:356: UserWarning: The `lr` argument is deprecated, use `learning_rate` instead.\n",
            "  \"The `lr` argument is deprecated, use `learning_rate` instead.\")\n"
          ],
          "name": "stderr"
        }
      ]
    },
    {
      "cell_type": "code",
      "metadata": {
        "colab": {
          "base_uri": "https://localhost:8080/"
        },
        "id": "qIpGjT7INql-",
        "outputId": "ac49a62c-dfb1-48cb-80d1-078057eab95c"
      },
      "source": [
        "history = model.fit(train_features, train_labels,\n",
        "epochs=30,\n",
        "batch_size=30,\n",
        "validation_data=(validation_features, validation_labels))"
      ],
      "execution_count": null,
      "outputs": [
        {
          "output_type": "stream",
          "text": [
            "Epoch 1/30\n",
            "67/67 [==============================] - 2s 11ms/step - loss: 0.6390 - acc: 0.6270 - val_loss: 0.4750 - val_acc: 0.7900\n",
            "Epoch 2/30\n",
            "67/67 [==============================] - 1s 8ms/step - loss: 0.4671 - acc: 0.7765 - val_loss: 0.4071 - val_acc: 0.8200\n",
            "Epoch 3/30\n",
            "67/67 [==============================] - 0s 7ms/step - loss: 0.3864 - acc: 0.8245 - val_loss: 0.3732 - val_acc: 0.8400\n",
            "Epoch 4/30\n",
            "67/67 [==============================] - 1s 8ms/step - loss: 0.3402 - acc: 0.8585 - val_loss: 0.3477 - val_acc: 0.8470\n",
            "Epoch 5/30\n",
            "67/67 [==============================] - 0s 7ms/step - loss: 0.3122 - acc: 0.8710 - val_loss: 0.3360 - val_acc: 0.8550\n",
            "Epoch 6/30\n",
            "67/67 [==============================] - 0s 7ms/step - loss: 0.2921 - acc: 0.8775 - val_loss: 0.3243 - val_acc: 0.8530\n",
            "Epoch 7/30\n",
            "67/67 [==============================] - 0s 7ms/step - loss: 0.2721 - acc: 0.8865 - val_loss: 0.3298 - val_acc: 0.8520\n",
            "Epoch 8/30\n",
            "67/67 [==============================] - 1s 8ms/step - loss: 0.2535 - acc: 0.9005 - val_loss: 0.3115 - val_acc: 0.8590\n",
            "Epoch 9/30\n",
            "67/67 [==============================] - 0s 7ms/step - loss: 0.2431 - acc: 0.9050 - val_loss: 0.3119 - val_acc: 0.8620\n",
            "Epoch 10/30\n",
            "67/67 [==============================] - 1s 8ms/step - loss: 0.2283 - acc: 0.9115 - val_loss: 0.2977 - val_acc: 0.8650\n",
            "Epoch 11/30\n",
            "67/67 [==============================] - 1s 8ms/step - loss: 0.2125 - acc: 0.9215 - val_loss: 0.2939 - val_acc: 0.8630\n",
            "Epoch 12/30\n",
            "67/67 [==============================] - 0s 7ms/step - loss: 0.2140 - acc: 0.9175 - val_loss: 0.2958 - val_acc: 0.8660\n",
            "Epoch 13/30\n",
            "67/67 [==============================] - 1s 8ms/step - loss: 0.2028 - acc: 0.9210 - val_loss: 0.2898 - val_acc: 0.8640\n",
            "Epoch 14/30\n",
            "67/67 [==============================] - 0s 7ms/step - loss: 0.1876 - acc: 0.9365 - val_loss: 0.2912 - val_acc: 0.8750\n",
            "Epoch 15/30\n",
            "67/67 [==============================] - 0s 7ms/step - loss: 0.1825 - acc: 0.9330 - val_loss: 0.2855 - val_acc: 0.8720\n",
            "Epoch 16/30\n",
            "67/67 [==============================] - 1s 8ms/step - loss: 0.1728 - acc: 0.9335 - val_loss: 0.2814 - val_acc: 0.8740\n",
            "Epoch 17/30\n",
            "67/67 [==============================] - 1s 8ms/step - loss: 0.1720 - acc: 0.9385 - val_loss: 0.2835 - val_acc: 0.8680\n",
            "Epoch 18/30\n",
            "67/67 [==============================] - 0s 7ms/step - loss: 0.1671 - acc: 0.9430 - val_loss: 0.2841 - val_acc: 0.8670\n",
            "Epoch 19/30\n",
            "67/67 [==============================] - 0s 7ms/step - loss: 0.1577 - acc: 0.9475 - val_loss: 0.2821 - val_acc: 0.8660\n",
            "Epoch 20/30\n",
            "67/67 [==============================] - 1s 8ms/step - loss: 0.1516 - acc: 0.9505 - val_loss: 0.2897 - val_acc: 0.8640\n",
            "Epoch 21/30\n",
            "67/67 [==============================] - 0s 7ms/step - loss: 0.1450 - acc: 0.9485 - val_loss: 0.2855 - val_acc: 0.8650\n",
            "Epoch 22/30\n",
            "67/67 [==============================] - 0s 7ms/step - loss: 0.1443 - acc: 0.9480 - val_loss: 0.2767 - val_acc: 0.8730\n",
            "Epoch 23/30\n",
            "67/67 [==============================] - 0s 7ms/step - loss: 0.1362 - acc: 0.9595 - val_loss: 0.2805 - val_acc: 0.8670\n",
            "Epoch 24/30\n",
            "67/67 [==============================] - 1s 8ms/step - loss: 0.1341 - acc: 0.9570 - val_loss: 0.2760 - val_acc: 0.8700\n",
            "Epoch 25/30\n",
            "67/67 [==============================] - 1s 8ms/step - loss: 0.1314 - acc: 0.9570 - val_loss: 0.2763 - val_acc: 0.8740\n",
            "Epoch 26/30\n",
            "67/67 [==============================] - 0s 7ms/step - loss: 0.1290 - acc: 0.9545 - val_loss: 0.2759 - val_acc: 0.8720\n",
            "Epoch 27/30\n",
            "67/67 [==============================] - 1s 8ms/step - loss: 0.1277 - acc: 0.9595 - val_loss: 0.2784 - val_acc: 0.8670\n",
            "Epoch 28/30\n",
            "67/67 [==============================] - 1s 8ms/step - loss: 0.1183 - acc: 0.9635 - val_loss: 0.2776 - val_acc: 0.8690\n",
            "Epoch 29/30\n",
            "67/67 [==============================] - 1s 8ms/step - loss: 0.1110 - acc: 0.9680 - val_loss: 0.2764 - val_acc: 0.8740\n",
            "Epoch 30/30\n",
            "67/67 [==============================] - 0s 7ms/step - loss: 0.1078 - acc: 0.9690 - val_loss: 0.2806 - val_acc: 0.8680\n"
          ],
          "name": "stdout"
        }
      ]
    },
    {
      "cell_type": "code",
      "metadata": {
        "colab": {
          "base_uri": "https://localhost:8080/",
          "height": 545
        },
        "id": "pH4vT7LWNww0",
        "outputId": "f448885f-28fe-4749-facd-b6025b686dee"
      },
      "source": [
        "import matplotlib.pyplot as plt\n",
        "acc = history.history['acc']\n",
        "val_acc = history.history['val_acc']\n",
        "loss = history.history['loss']\n",
        "val_loss = history.history['val_loss']\n",
        "epochs = range(1, len(acc) + 1)\n",
        "plt.plot(epochs, acc, 'bo', label='Training acc')\n",
        "plt.plot(epochs, val_acc, 'b', label='Validation acc')\n",
        "plt.title('Training and validation accuracy')\n",
        "plt.legend()\n",
        "plt.figure()\n",
        "plt.plot(epochs, loss, 'bo', label='Training loss')\n",
        "plt.plot(epochs, val_loss, 'b', label='Validation loss')\n",
        "plt.title('Training and validation loss')\n",
        "plt.legend()\n",
        "plt.show()"
      ],
      "execution_count": null,
      "outputs": [
        {
          "output_type": "display_data",
          "data": {
            "image/png": "[encoded data removed]",
            "text/plain": [
              "<Figure size 432x288 with 1 Axes>"
            ]
          },
          "metadata": {
            "needs_background": "light"
          }
        },
        {
          "output_type": "display_data",
          "data": {
            "image/png": "[encoded data removed]",
            "text/plain": [
              "<Figure size 432x288 with 1 Axes>"
            ]
          },
          "metadata": {
            "needs_background": "light"
          }
        }
      ]
    },
    {
      "cell_type": "code",
      "metadata": {
        "id": "ceMucOGlN2PH"
      },
      "source": [
        ""
      ],
      "execution_count": null,
      "outputs": []
    },
    {
      "cell_type": "markdown",
      "metadata": {
        "id": "6xqUbTo0ONdM"
      },
      "source": [
        "##FEATURE EXTRACTION WITH DATA AUGMENTATION\n"
      ]
    },
    {
      "cell_type": "code",
      "metadata": {
        "id": "07TMhkHaOPFk"
      },
      "source": [
        ""
      ],
      "execution_count": null,
      "outputs": []
    },
    {
      "cell_type": "code",
      "metadata": {
        "id": "UpqhTDygRFmm"
      },
      "source": [
        "import tensorflow\n",
        "from tensorflow import keras\n",
        "from keras.applications.vgg16 import VGG16\n",
        "conv_base = VGG16(weights='imagenet',\n",
        "                  include_top=False,\n",
        "                  input_shape=(150, 150, 3))\n"
      ],
      "execution_count": null,
      "outputs": []
    },
    {
      "cell_type": "code",
      "metadata": {
        "id": "S4kwpYZhROwg"
      },
      "source": [
        "from keras.applications.vgg16 import VGG16\n",
        "conv_base = VGG16(weights='imagenet',\n",
        "                  include_top=False,\n",
        "                  input_shape=(150, 150, 3))\n"
      ],
      "execution_count": null,
      "outputs": []
    },
    {
      "cell_type": "code",
      "metadata": {
        "colab": {
          "base_uri": "https://localhost:8080/"
        },
        "id": "-CjcHE7KRU2L",
        "outputId": "420f4f46-491f-41ad-fd27-6472e36d1f2a"
      },
      "source": [
        "import numpy as np\n",
        "from tensorflow.keras.preprocessing.image import ImageDataGenerator\n",
        "\n",
        "base_dir       = \"/content/drive/MyDrive/cat and dog\"\n",
        "train_dir      = \"/content/drive/MyDrive/cat and dog/train\"\n",
        "validation_dir = \"/content/drive/MyDrive/cat and dog/validation\"\n",
        "test_dir       = \"/content/drive/MyDrive/cat and dog/test\"\n",
        "\n",
        "train_datagen = ImageDataGenerator(\n",
        "                                 rescale=1./255,\n",
        "                                 rotation_range=40,\n",
        "                                 width_shift_range=0.2,\n",
        "                                 height_shift_range=0.2,\n",
        "                                 shear_range=0.2,\n",
        "                                 zoom_range=0.2,\n",
        "                                 horizontal_flip=True,\n",
        "                                 fill_mode='nearest')\n",
        "\n",
        "Validation_datagen = ImageDataGenerator(rescale=1./255)\n",
        "\n",
        "train_generator = train_datagen.flow_from_directory(\n",
        "                                                train_dir,\n",
        "                                                target_size=(150, 150),\n",
        "                                                batch_size=20,\n",
        "                                                class_mode='binary')\n",
        "\n",
        "validation_generator = Validation_datagen.flow_from_directory(\n",
        "                                                validation_dir,\n",
        "                                                target_size=(150, 150),\n",
        "                                                batch_size=20,\n",
        "                                                class_mode='binary')\n",
        "\n",
        "def extract_features(directory, sample_count):   \n",
        "    features = np.zeros(shape=(sample_count, 4, 4, 512))\n",
        "    labels = np.zeros(shape=(sample_count))\n",
        "    \n",
        "    generator = datagen.flow_from_directory(\n",
        "                                       directory,\n",
        "                                       target_size=(150, 150),\n",
        "                                       batch_size=batch_size,\n",
        "                                       class_mode='binary')\n",
        "\n",
        "    i=0\n",
        "    for inputs_batch, labels_batch in generator:\n",
        "        features_batch = conv_base.predict(inputs_batch)\n",
        "        features[i * batch_size : (i + 1) * batch_size] = features_batch\n",
        "        labels[i * batch_size : (i + 1) * batch_size] = labels_batch\n",
        "        i += 1\n",
        "        if i * batch_size >= sample_count:\n",
        "        \n",
        "            break\n",
        "    return features, labels"
      ],
      "execution_count": null,
      "outputs": [
        {
          "output_type": "stream",
          "text": [
            "Found 2000 images belonging to 2 classes.\n",
            "Found 1000 images belonging to 2 classes.\n"
          ],
          "name": "stdout"
        }
      ]
    },
    {
      "cell_type": "code",
      "metadata": {
        "colab": {
          "base_uri": "https://localhost:8080/"
        },
        "id": "A_WUQXyyTynh",
        "outputId": "f7401078-546b-4238-8d56-a856b29bc3ea"
      },
      "source": [
        "train_features, train_labels = extract_features(train_dir,2000 )\n",
        "validation_features, validation_labels = extract_features(validation_dir,1000 )\n",
        "test_features, test_labels = extract_features(test_dir,1000)"
      ],
      "execution_count": null,
      "outputs": [
        {
          "output_type": "stream",
          "text": [
            "Found 2000 images belonging to 2 classes.\n",
            "Found 1000 images belonging to 2 classes.\n",
            "Found 1000 images belonging to 2 classes.\n"
          ],
          "name": "stdout"
        }
      ]
    },
    {
      "cell_type": "code",
      "metadata": {
        "id": "FPuNGU2GT3TD"
      },
      "source": [
        "train_features = np.reshape(train_features, (2000, 4*4* 512))\n",
        "validation_features = np.reshape(validation_features, (1000, 4*4* 512))\n",
        "test_features = np.reshape(test_features, (1000, 4*4* 512))"
      ],
      "execution_count": null,
      "outputs": []
    },
    {
      "cell_type": "code",
      "metadata": {
        "colab": {
          "base_uri": "https://localhost:8080/"
        },
        "id": "CAjCv9fmUAon",
        "outputId": "e7339ec1-7c8a-4c6d-82da-156e2e981797"
      },
      "source": [
        "from tensorflow.keras import models\n",
        "from tensorflow.keras import layers\n",
        "from tensorflow.keras import optimizers\n",
        "model = models.Sequential()\n",
        "model.add(layers.Dense(256, activation='relu', input_dim=4 * 4 * 512))\n",
        "model.add(layers.Dropout(0.5))\n",
        "model.add(layers.Dense(1, activation='sigmoid'))\n",
        "\n",
        "\n",
        "model.compile(optimizer=optimizers.RMSprop(lr=2e-5),\n",
        "                               loss='binary_crossentropy',\n",
        "                                metrics=['acc'])\n"
      ],
      "execution_count": null,
      "outputs": [
        {
          "output_type": "stream",
          "text": [
            "/usr/local/lib/python3.7/dist-packages/keras/optimizer_v2/optimizer_v2.py:356: UserWarning: The `lr` argument is deprecated, use `learning_rate` instead.\n",
            "  \"The `lr` argument is deprecated, use `learning_rate` instead.\")\n"
          ],
          "name": "stderr"
        }
      ]
    },
    {
      "cell_type": "code",
      "metadata": {
        "colab": {
          "base_uri": "https://localhost:8080/"
        },
        "id": "XWNZso4KUHDO",
        "outputId": "f28b58a6-5357-4b9f-8f8f-75d8e2ece594"
      },
      "source": [
        "history = model.fit(train_features, train_labels,\n",
        "epochs=30,\n",
        "batch_size=30,\n",
        "validation_data=(validation_features, validation_labels))"
      ],
      "execution_count": null,
      "outputs": [
        {
          "output_type": "stream",
          "text": [
            "Epoch 1/30\n",
            "67/67 [==============================] - 1s 9ms/step - loss: 0.6215 - acc: 0.6535 - val_loss: 0.4701 - val_acc: 0.8190\n",
            "Epoch 2/30\n",
            "67/67 [==============================] - 1s 8ms/step - loss: 0.4549 - acc: 0.7950 - val_loss: 0.4019 - val_acc: 0.8400\n",
            "Epoch 3/30\n",
            "67/67 [==============================] - 1s 8ms/step - loss: 0.3789 - acc: 0.8400 - val_loss: 0.3725 - val_acc: 0.8440\n",
            "Epoch 4/30\n",
            "67/67 [==============================] - 0s 7ms/step - loss: 0.3351 - acc: 0.8635 - val_loss: 0.3503 - val_acc: 0.8510\n",
            "Epoch 5/30\n",
            "67/67 [==============================] - 0s 7ms/step - loss: 0.3105 - acc: 0.8660 - val_loss: 0.3314 - val_acc: 0.8580\n",
            "Epoch 6/30\n",
            "67/67 [==============================] - 1s 8ms/step - loss: 0.2845 - acc: 0.8770 - val_loss: 0.3226 - val_acc: 0.8620\n",
            "Epoch 7/30\n",
            "67/67 [==============================] - 1s 8ms/step - loss: 0.2685 - acc: 0.8855 - val_loss: 0.3102 - val_acc: 0.8640\n",
            "Epoch 8/30\n",
            "67/67 [==============================] - 1s 8ms/step - loss: 0.2563 - acc: 0.8975 - val_loss: 0.3035 - val_acc: 0.8670\n",
            "Epoch 9/30\n",
            "67/67 [==============================] - 0s 7ms/step - loss: 0.2383 - acc: 0.9080 - val_loss: 0.2993 - val_acc: 0.8650\n",
            "Epoch 10/30\n",
            "67/67 [==============================] - 0s 7ms/step - loss: 0.2193 - acc: 0.9100 - val_loss: 0.2954 - val_acc: 0.8650\n",
            "Epoch 11/30\n",
            "67/67 [==============================] - 0s 7ms/step - loss: 0.2146 - acc: 0.9215 - val_loss: 0.2902 - val_acc: 0.8690\n",
            "Epoch 12/30\n",
            "67/67 [==============================] - 1s 8ms/step - loss: 0.2058 - acc: 0.9245 - val_loss: 0.2883 - val_acc: 0.8730\n",
            "Epoch 13/30\n",
            "67/67 [==============================] - 1s 8ms/step - loss: 0.1941 - acc: 0.9280 - val_loss: 0.2871 - val_acc: 0.8760\n",
            "Epoch 14/30\n",
            "67/67 [==============================] - 1s 8ms/step - loss: 0.1842 - acc: 0.9330 - val_loss: 0.2824 - val_acc: 0.8700\n",
            "Epoch 15/30\n",
            "67/67 [==============================] - 1s 8ms/step - loss: 0.1823 - acc: 0.9325 - val_loss: 0.2817 - val_acc: 0.8710\n",
            "Epoch 16/30\n",
            "67/67 [==============================] - 0s 7ms/step - loss: 0.1700 - acc: 0.9400 - val_loss: 0.2797 - val_acc: 0.8690\n",
            "Epoch 17/30\n",
            "67/67 [==============================] - 1s 8ms/step - loss: 0.1633 - acc: 0.9450 - val_loss: 0.2861 - val_acc: 0.8670\n",
            "Epoch 18/30\n",
            "67/67 [==============================] - 0s 7ms/step - loss: 0.1602 - acc: 0.9405 - val_loss: 0.2968 - val_acc: 0.8630\n",
            "Epoch 19/30\n",
            "67/67 [==============================] - 1s 8ms/step - loss: 0.1545 - acc: 0.9435 - val_loss: 0.2804 - val_acc: 0.8720\n",
            "Epoch 20/30\n",
            "67/67 [==============================] - 0s 7ms/step - loss: 0.1445 - acc: 0.9550 - val_loss: 0.2779 - val_acc: 0.8730\n",
            "Epoch 21/30\n",
            "67/67 [==============================] - 0s 7ms/step - loss: 0.1457 - acc: 0.9505 - val_loss: 0.2769 - val_acc: 0.8760\n",
            "Epoch 22/30\n",
            "67/67 [==============================] - 1s 8ms/step - loss: 0.1387 - acc: 0.9535 - val_loss: 0.2758 - val_acc: 0.8730\n",
            "Epoch 23/30\n",
            "67/67 [==============================] - 1s 8ms/step - loss: 0.1333 - acc: 0.9575 - val_loss: 0.2850 - val_acc: 0.8700\n",
            "Epoch 24/30\n",
            "67/67 [==============================] - 0s 7ms/step - loss: 0.1262 - acc: 0.9585 - val_loss: 0.2790 - val_acc: 0.8710\n",
            "Epoch 25/30\n",
            "67/67 [==============================] - 0s 7ms/step - loss: 0.1186 - acc: 0.9630 - val_loss: 0.2839 - val_acc: 0.8700\n",
            "Epoch 26/30\n",
            "67/67 [==============================] - 1s 8ms/step - loss: 0.1207 - acc: 0.9625 - val_loss: 0.2741 - val_acc: 0.8750\n",
            "Epoch 27/30\n",
            "67/67 [==============================] - 0s 7ms/step - loss: 0.1152 - acc: 0.9655 - val_loss: 0.2760 - val_acc: 0.8760\n",
            "Epoch 28/30\n",
            "67/67 [==============================] - 1s 8ms/step - loss: 0.1157 - acc: 0.9635 - val_loss: 0.2752 - val_acc: 0.8690\n",
            "Epoch 29/30\n",
            "67/67 [==============================] - 1s 8ms/step - loss: 0.1064 - acc: 0.9695 - val_loss: 0.2747 - val_acc: 0.8750\n",
            "Epoch 30/30\n",
            "67/67 [==============================] - 1s 8ms/step - loss: 0.1061 - acc: 0.9690 - val_loss: 0.2759 - val_acc: 0.8710\n"
          ],
          "name": "stdout"
        }
      ]
    },
    {
      "cell_type": "code",
      "metadata": {
        "colab": {
          "base_uri": "https://localhost:8080/",
          "height": 545
        },
        "id": "nEZq2GP8UUPU",
        "outputId": "bb90dadc-54ab-4dd0-b252-ca405850cd9d"
      },
      "source": [
        "import matplotlib.pyplot as plt\n",
        "acc = history.history['acc']\n",
        "val_acc = history.history['val_acc']\n",
        "loss = history.history['loss']\n",
        "val_loss = history.history['val_loss']\n",
        "epochs = range(1, len(acc) + 1)\n",
        "plt.plot(epochs, acc, 'bo', label='Training acc')\n",
        "plt.plot(epochs, val_acc, 'b', label='Validation acc')\n",
        "plt.title('Training and validation accuracy')\n",
        "plt.legend()\n",
        "plt.figure()\n",
        "plt.plot(epochs, loss, 'bo', label='Training loss')\n",
        "plt.plot(epochs, val_loss, 'b', label='Validation loss')\n",
        "plt.title('Training and validation loss')\n",
        "plt.legend()\n",
        "plt.show()"
      ],
      "execution_count": null,
      "outputs": [
        {
          "output_type": "display_data",
          "data": {
            "image/png": "[encoded data removed]",
            "text/plain": [
              "<Figure size 432x288 with 1 Axes>"
            ]
          },
          "metadata": {
            "needs_background": "light"
          }
        },
        {
          "output_type": "display_data",
          "data": {
            "image/png": "[encoded data removed]",
            "text/plain": [
              "<Figure size 432x288 with 1 Axes>"
            ]
          },
          "metadata": {
            "needs_background": "light"
          }
        }
      ]
    },
    {
      "cell_type": "code",
      "metadata": {
        "id": "RTCluzrAUcDe"
      },
      "source": [
        "model.save('cat_and_dog.h5')"
      ],
      "execution_count": null,
      "outputs": []
    },
    {
      "cell_type": "code",
      "metadata": {
        "colab": {
          "base_uri": "https://localhost:8080/"
        },
        "id": "IyhEKd1IVuLH",
        "outputId": "d5ecce0b-ed33-43c7-9fca-b264b63363a3"
      },
      "source": [
        "model.summary()"
      ],
      "execution_count": null,
      "outputs": [
        {
          "output_type": "stream",
          "text": [
            "Model: \"sequential_2\"\n",
            "_________________________________________________________________\n",
            "Layer (type)                 Output Shape              Param #   \n",
            "=================================================================\n",
            "dense_4 (Dense)              (None, 256)               2097408   \n",
            "_________________________________________________________________\n",
            "dropout_2 (Dropout)          (None, 256)               0         \n",
            "_________________________________________________________________\n",
            "dense_5 (Dense)              (None, 1)                 257       \n",
            "=================================================================\n",
            "Total params: 2,097,665\n",
            "Trainable params: 2,097,665\n",
            "Non-trainable params: 0\n",
            "_________________________________________________________________\n"
          ],
          "name": "stdout"
        }
      ]
    },
    {
      "cell_type": "code",
      "metadata": {
        "id": "kHL4TcMAV5Bl"
      },
      "source": [
        ""
      ],
      "execution_count": null,
      "outputs": []
    },
    {
      "cell_type": "markdown",
      "metadata": {
        "id": "SzLs7rv9sF3I"
      },
      "source": [
        "##FEATURE EXTRACTION WITH DATA AUGMENTATION\n"
      ]
    },
    {
      "cell_type": "code",
      "metadata": {
        "id": "hVXiujwFfEWc"
      },
      "source": [
        "from keras import models\n",
        "from keras import layers\n",
        "model = models.Sequential()\n",
        "model.add(conv_base)\n",
        "model.add(layers.Flatten())\n",
        "model.add(layers.Dense(256, activation='relu'))\n",
        "model.add(layers.Dense(1, activation='sigmoid'))\n"
      ],
      "execution_count": null,
      "outputs": []
    },
    {
      "cell_type": "code",
      "metadata": {
        "colab": {
          "base_uri": "https://localhost:8080/"
        },
        "id": "bNZLnTcbhbSc",
        "outputId": "124a5aea-e422-4e85-aa18-a6e7bdabb716"
      },
      "source": [
        "from keras.preprocessing.image import ImageDataGenerator\n",
        "from keras import optimizers\n",
        "\n",
        "base_dir       = \"/content/drive/MyDrive/cat and dog\"\n",
        "train_dir      = \"/content/drive/MyDrive/cat and dog/train\"\n",
        "validation_dir = \"/content/drive/MyDrive/cat and dog/validation\"\n",
        "test_dir       = \"/content/drive/MyDrive/cat and dog/test\"\n",
        "\n",
        "train_datagen = ImageDataGenerator(\n",
        "                                  rescale=1./255,\n",
        "                                  rotation_range=40,\n",
        "                                  width_shift_range=0.2,\n",
        "                                  height_shift_range=0.2,\n",
        "                                  shear_range=0.2,\n",
        "                                  zoom_range=0.2,\n",
        "                                  horizontal_flip=True,\n",
        "                                  fill_mode='nearest')\n",
        "\n",
        "validation_datagen = ImageDataGenerator(rescale=1./255)\n",
        " \n",
        "train_generator = train_datagen.flow_from_directory(\n",
        "                                          train_dir,\n",
        "                                          target_size=(150, 150),\n",
        "                                          batch_size=20,\n",
        "                                          class_mode='binary')\n",
        "\n",
        "validation_generator = validation_datagen.flow_from_directory(\n",
        "                                          validation_dir,\n",
        "                                          target_size=(150, 150),\n",
        "                                          batch_size=20,\n",
        "                                          class_mode='binary')\n"
      ],
      "execution_count": null,
      "outputs": [
        {
          "output_type": "stream",
          "text": [
            "Found 2000 images belonging to 2 classes.\n",
            "Found 1000 images belonging to 2 classes.\n"
          ],
          "name": "stdout"
        }
      ]
    },
    {
      "cell_type": "code",
      "metadata": {
        "colab": {
          "base_uri": "https://localhost:8080/"
        },
        "id": "oI9i_MYTjHMq",
        "outputId": "4325fdfe-0d7f-4691-d5a2-d1ddeaa701c3"
      },
      "source": [
        "from tensorflow.keras import optimizers\n",
        "model.compile(loss='binary_crossentropy',\n",
        "optimizer=optimizers.RMSprop(lr=2e-5),\n",
        "metrics=['acc'])\n"
      ],
      "execution_count": null,
      "outputs": [
        {
          "output_type": "stream",
          "text": [
            "/usr/local/lib/python3.7/dist-packages/keras/optimizer_v2/optimizer_v2.py:356: UserWarning: The `lr` argument is deprecated, use `learning_rate` instead.\n",
            "  \"The `lr` argument is deprecated, use `learning_rate` instead.\")\n"
          ],
          "name": "stderr"
        }
      ]
    },
    {
      "cell_type": "code",
      "metadata": {
        "colab": {
          "base_uri": "https://localhost:8080/"
        },
        "id": "o88tXn4Aj4pa",
        "outputId": "90f165eb-6261-4c6f-b5f9-cb9e1f2e02da"
      },
      "source": [
        "history = model.fit_generator(\n",
        "train_generator,\n",
        "steps_per_epoch=100,\n",
        "epochs=30,\n",
        "validation_data=validation_generator,\n",
        "validation_steps=50)"
      ],
      "execution_count": null,
      "outputs": [
        {
          "metadata": {
            "tags": null
          },
          "name": "stderr",
          "output_type": "stream",
          "text": [
            "/usr/local/lib/python3.7/dist-packages/keras/engine/training.py:1972: UserWarning: `Model.fit_generator` is deprecated and will be removed in a future version. Please use `Model.fit`, which supports generators.\n",
            "  warnings.warn('`Model.fit_generator` is deprecated and '\n"
          ]
        },
        {
          "output_type": "stream",
          "text": [
            "Epoch 1/30\n",
            "100/100 [==============================] - 48s 426ms/step - loss: 0.4497 - acc: 0.7755 - val_loss: 0.2337 - val_acc: 0.8890\n",
            "Epoch 2/30\n",
            "100/100 [==============================] - 42s 421ms/step - loss: 0.2703 - acc: 0.8800 - val_loss: 0.3936 - val_acc: 0.8630\n",
            "Epoch 3/30\n",
            "100/100 [==============================] - 42s 420ms/step - loss: 0.1991 - acc: 0.9115 - val_loss: 0.1358 - val_acc: 0.9480\n",
            "Epoch 4/30\n",
            "100/100 [==============================] - 42s 420ms/step - loss: 0.1574 - acc: 0.9345 - val_loss: 0.1226 - val_acc: 0.9510\n",
            "Epoch 5/30\n",
            "100/100 [==============================] - 42s 421ms/step - loss: 0.1627 - acc: 0.9355 - val_loss: 0.1596 - val_acc: 0.9320\n",
            "Epoch 6/30\n",
            "100/100 [==============================] - 42s 420ms/step - loss: 0.1299 - acc: 0.9505 - val_loss: 0.1345 - val_acc: 0.9510\n",
            "Epoch 7/30\n",
            "100/100 [==============================] - 42s 420ms/step - loss: 0.1019 - acc: 0.9535 - val_loss: 0.1191 - val_acc: 0.9570\n",
            "Epoch 8/30\n",
            "100/100 [==============================] - 42s 420ms/step - loss: 0.1006 - acc: 0.9595 - val_loss: 0.1107 - val_acc: 0.9560\n",
            "Epoch 9/30\n",
            "100/100 [==============================] - 42s 420ms/step - loss: 0.0840 - acc: 0.9660 - val_loss: 0.1646 - val_acc: 0.9490\n",
            "Epoch 10/30\n",
            "100/100 [==============================] - 42s 420ms/step - loss: 0.0881 - acc: 0.9695 - val_loss: 0.1265 - val_acc: 0.9570\n",
            "Epoch 11/30\n",
            "100/100 [==============================] - 42s 419ms/step - loss: 0.0752 - acc: 0.9735 - val_loss: 0.1462 - val_acc: 0.9540\n",
            "Epoch 12/30\n",
            "100/100 [==============================] - 42s 420ms/step - loss: 0.0702 - acc: 0.9720 - val_loss: 0.1516 - val_acc: 0.9590\n",
            "Epoch 13/30\n",
            "100/100 [==============================] - 42s 420ms/step - loss: 0.0773 - acc: 0.9775 - val_loss: 0.1322 - val_acc: 0.9580\n",
            "Epoch 14/30\n",
            "100/100 [==============================] - 42s 418ms/step - loss: 0.0716 - acc: 0.9760 - val_loss: 0.1009 - val_acc: 0.9640\n",
            "Epoch 15/30\n",
            "100/100 [==============================] - 42s 419ms/step - loss: 0.0580 - acc: 0.9790 - val_loss: 0.2335 - val_acc: 0.9440\n",
            "Epoch 16/30\n",
            "100/100 [==============================] - 42s 419ms/step - loss: 0.0574 - acc: 0.9780 - val_loss: 0.1146 - val_acc: 0.9610\n",
            "Epoch 17/30\n",
            "100/100 [==============================] - 42s 419ms/step - loss: 0.0566 - acc: 0.9795 - val_loss: 0.2241 - val_acc: 0.9490\n",
            "Epoch 18/30\n",
            "100/100 [==============================] - 42s 418ms/step - loss: 0.0417 - acc: 0.9840 - val_loss: 0.1241 - val_acc: 0.9600\n",
            "Epoch 19/30\n",
            "100/100 [==============================] - 42s 418ms/step - loss: 0.0538 - acc: 0.9810 - val_loss: 0.2021 - val_acc: 0.9470\n",
            "Epoch 20/30\n",
            "100/100 [==============================] - 42s 418ms/step - loss: 0.0426 - acc: 0.9850 - val_loss: 0.1400 - val_acc: 0.9630\n",
            "Epoch 21/30\n",
            "100/100 [==============================] - 42s 418ms/step - loss: 0.0430 - acc: 0.9825 - val_loss: 0.1718 - val_acc: 0.9560\n",
            "Epoch 22/30\n",
            "100/100 [==============================] - 42s 418ms/step - loss: 0.0560 - acc: 0.9865 - val_loss: 0.1219 - val_acc: 0.9610\n",
            "Epoch 23/30\n",
            "100/100 [==============================] - 42s 418ms/step - loss: 0.0325 - acc: 0.9900 - val_loss: 0.2100 - val_acc: 0.9620\n",
            "Epoch 24/30\n",
            "100/100 [==============================] - 42s 418ms/step - loss: 0.0555 - acc: 0.9830 - val_loss: 0.1643 - val_acc: 0.9610\n",
            "Epoch 25/30\n",
            "100/100 [==============================] - 42s 418ms/step - loss: 0.0344 - acc: 0.9875 - val_loss: 0.1608 - val_acc: 0.9650\n",
            "Epoch 26/30\n",
            "100/100 [==============================] - 42s 418ms/step - loss: 0.0294 - acc: 0.9900 - val_loss: 0.4003 - val_acc: 0.9370\n",
            "Epoch 27/30\n",
            "100/100 [==============================] - 42s 418ms/step - loss: 0.0294 - acc: 0.9895 - val_loss: 0.1545 - val_acc: 0.9660\n",
            "Epoch 28/30\n",
            "100/100 [==============================] - 42s 417ms/step - loss: 0.0356 - acc: 0.9910 - val_loss: 0.2049 - val_acc: 0.9560\n",
            "Epoch 29/30\n",
            "100/100 [==============================] - 42s 418ms/step - loss: 0.0383 - acc: 0.9915 - val_loss: 0.1843 - val_acc: 0.9560\n",
            "Epoch 30/30\n",
            "100/100 [==============================] - 42s 417ms/step - loss: 0.0371 - acc: 0.9875 - val_loss: 0.1522 - val_acc: 0.9670\n"
          ],
          "name": "stdout"
        }
      ]
    },
    {
      "cell_type": "code",
      "metadata": {
        "colab": {
          "base_uri": "https://localhost:8080/",
          "height": 545
        },
        "id": "6pjNTbnMkvUf",
        "outputId": "e37531e9-0df5-47e2-e10b-4722211c6c09"
      },
      "source": [
        "import matplotlib.pyplot as plt\n",
        "acc = history.history['acc']\n",
        "val_acc = history.history['val_acc']\n",
        "loss = history.history['loss']\n",
        "val_loss = history.history['val_loss']\n",
        "epochs = range(1, len(acc) + 1)\n",
        "plt.plot(epochs, acc, 'bo', label='Training acc')\n",
        "plt.plot(epochs, val_acc, 'b', label='Validation acc')\n",
        "plt.title('Training and validation accuracy')\n",
        "plt.legend()\n",
        "plt.figure()\n",
        "plt.plot(epochs, loss, 'bo', label='Training loss')\n",
        "plt.plot(epochs, val_loss, 'b', label='Validation loss')\n",
        "plt.title('Training and validation loss')\n",
        "plt.legend()\n",
        "plt.show()"
      ],
      "execution_count": null,
      "outputs": [
        {
          "output_type": "display_data",
          "data": {
            "image/png": "[encoded data removed]",
            "text/plain": [
              "<Figure size 432x288 with 1 Axes>"
            ]
          },
          "metadata": {
            "needs_background": "light"
          }
        },
        {
          "output_type": "display_data",
          "data": {
            "image/png": "[encoded data removed]",
            "text/plain": [
              "<Figure size 432x288 with 1 Axes>"
            ]
          },
          "metadata": {
            "needs_background": "light"
          }
        }
      ]
    },
    {
      "cell_type": "code",
      "metadata": {
        "id": "Nitjv2TNuovB"
      },
      "source": [
        "model.save('cats_and_dogs_96.h5')"
      ],
      "execution_count": null,
      "outputs": []
    },
    {
      "cell_type": "code",
      "metadata": {
        "colab": {
          "base_uri": "https://localhost:8080/",
          "height": 244
        },
        "id": "h6H05-GevNc7",
        "outputId": "f7832ff3-e9e5-48cf-ef02-4b712316c169"
      },
      "source": [
        "test_generator = test_datagen.flow_from_directory(\n",
        "test_dir,\n",
        "target_size=(150, 150),\n",
        "batch_size=20,\n",
        "class_mode='binary')\n",
        "test_loss, test_acc = model.evaluate_generator(test_generator, steps=50)\n",
        "print('test acc:', test_acc)"
      ],
      "execution_count": null,
      "outputs": [
        {
          "output_type": "error",
          "ename": "NameError",
          "evalue": "ignored",
          "traceback": [
            "\u001b[0;31m---------------------------------------------------------------------------\u001b[0m",
            "\u001b[0;31mNameError\u001b[0m                                 Traceback (most recent call last)",
            "\u001b[0;32m<ipython-input-56-c75af5e1b039>\u001b[0m in \u001b[0;36m<module>\u001b[0;34m()\u001b[0m\n\u001b[0;32m----> 1\u001b[0;31m test_generator = test_datagen.flow_from_directory(\n\u001b[0m\u001b[1;32m      2\u001b[0m \u001b[0mtest_dir\u001b[0m\u001b[0;34m,\u001b[0m\u001b[0;34m\u001b[0m\u001b[0;34m\u001b[0m\u001b[0m\n\u001b[1;32m      3\u001b[0m \u001b[0mtarget_size\u001b[0m\u001b[0;34m=\u001b[0m\u001b[0;34m(\u001b[0m\u001b[0;36m150\u001b[0m\u001b[0;34m,\u001b[0m \u001b[0;36m150\u001b[0m\u001b[0;34m)\u001b[0m\u001b[0;34m,\u001b[0m\u001b[0;34m\u001b[0m\u001b[0;34m\u001b[0m\u001b[0m\n\u001b[1;32m      4\u001b[0m \u001b[0mbatch_size\u001b[0m\u001b[0;34m=\u001b[0m\u001b[0;36m20\u001b[0m\u001b[0;34m,\u001b[0m\u001b[0;34m\u001b[0m\u001b[0;34m\u001b[0m\u001b[0m\n\u001b[1;32m      5\u001b[0m class_mode='binary')\n",
            "\u001b[0;31mNameError\u001b[0m: name 'test_datagen' is not defined"
          ]
        }
      ]
    },
    {
      "cell_type": "code",
      "metadata": {
        "id": "CfSzRhCFxUkn"
      },
      "source": [
        ""
      ],
      "execution_count": null,
      "outputs": []
    }
  ]
}