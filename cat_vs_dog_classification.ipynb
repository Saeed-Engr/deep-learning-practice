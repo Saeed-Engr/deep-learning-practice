{
  "nbformat": 4,
  "nbformat_minor": 0,
  "metadata": {
    "colab": {
      "name": "cat vs dog classification.ipynb",
      "provenance": []
    },
    "kernelspec": {
      "name": "python3",
      "display_name": "Python 3"
    },
    "language_info": {
      "name": "python"
    },
    "accelerator": "GPU"
  },
  "cells": [
    {
      "cell_type": "code",
      "metadata": {
        "id": "YFMOb4Ds140H"
      },
      "source": [
        "import tensorflow"
      ],
      "execution_count": 1,
      "outputs": []
    },
    {
      "cell_type": "code",
      "metadata": {
        "id": "GGkRicYa4swi"
      },
      "source": [
        "from tensorflow.keras import layers\n",
        "from tensorflow.keras import models\n",
        "model = models.Sequential()\n",
        "model.add(layers.Conv2D(32, (3, 3), activation='relu',\n",
        "input_shape=(150, 150, 3)))\n",
        "model.add(layers.MaxPooling2D((2, 2)))\n",
        "model.add(layers.Conv2D(64, (3, 3), activation='relu'))\n",
        "model.add(layers.MaxPooling2D((2, 2)))\n",
        "model.add(layers.Conv2D(128, (3, 3), activation='relu'))\n",
        "model.add(layers.MaxPooling2D((2, 2)))\n",
        "model.add(layers.Conv2D(128, (3, 3), activation='relu'))\n",
        "model.add(layers.MaxPooling2D((2, 2)))\n",
        "model.add(layers.Flatten())\n",
        "model.add(layers.Dense(512, activation='relu'))\n",
        "model.add(layers.Dense(128, activation='relu'))\n",
        "\n",
        "model.add(layers.Dense(1, activation='sigmoid'))"
      ],
      "execution_count": 2,
      "outputs": []
    },
    {
      "cell_type": "code",
      "metadata": {
        "id": "JPOYV5FY5FGZ"
      },
      "source": [
        "from tensorflow.keras import optimizers\n",
        "model.compile(loss='binary_crossentropy',\n",
        "optimizer=optimizers.RMSprop(learning_rate=1e-4),\n",
        "metrics=['acc'])"
      ],
      "execution_count": 3,
      "outputs": []
    },
    {
      "cell_type": "code",
      "metadata": {
        "id": "XXfv4Vhj5Mkx"
      },
      "source": [
        "from tensorflow.keras.preprocessing.image import ImageDataGenerator\n",
        "train_datagen = ImageDataGenerator(rescale=1./255)\n",
        "validation_datagen = ImageDataGenerator(rescale=1./255)"
      ],
      "execution_count": 4,
      "outputs": []
    },
    {
      "cell_type": "code",
      "metadata": {
        "colab": {
          "base_uri": "https://localhost:8080/"
        },
        "id": "w8E4NJVX5Tgt",
        "outputId": "7df220f0-e0b9-48a6-9542-7414ea93c9ec"
      },
      "source": [
        "train_generator = train_datagen.flow_from_directory(\n",
        "'/content/drive/MyDrive/dogs vs cats dataset/training_set',\n",
        "target_size=(150, 150),batch_size=60,class_mode='binary')"
      ],
      "execution_count": 5,
      "outputs": [
        {
          "output_type": "stream",
          "text": [
            "Found 8000 images belonging to 2 classes.\n"
          ],
          "name": "stdout"
        }
      ]
    },
    {
      "cell_type": "code",
      "metadata": {
        "colab": {
          "base_uri": "https://localhost:8080/"
        },
        "id": "SkdCxuaT5hDb",
        "outputId": "5d137dc7-d346-49df-a5f3-cee474dd72a0"
      },
      "source": [
        "validation_generator = validation_datagen.flow_from_directory(\n",
        "    '/content/drive/MyDrive/dogs vs cats dataset/validation_set',\n",
        "      target_size=(150,150),batch_size=60,class_mode=\"binary\")"
      ],
      "execution_count": 6,
      "outputs": [
        {
          "output_type": "stream",
          "text": [
            "Found 2000 images belonging to 2 classes.\n"
          ],
          "name": "stdout"
        }
      ]
    },
    {
      "cell_type": "code",
      "metadata": {
        "colab": {
          "base_uri": "https://localhost:8080/"
        },
        "id": "Ij3xGaGO5rlx",
        "outputId": "ffda2daf-ff21-4e1a-859f-a0f5c041b145"
      },
      "source": [
        "history = model.fit_generator(\n",
        "train_generator,\n",
        "epochs=20,\n",
        "validation_data=validation_generator,\n",
        "validation_steps=33)"
      ],
      "execution_count": 7,
      "outputs": [
        {
          "output_type": "stream",
          "text": [
            "/usr/local/lib/python3.7/dist-packages/tensorflow/python/keras/engine/training.py:1940: UserWarning: `Model.fit_generator` is deprecated and will be removed in a future version. Please use `Model.fit`, which supports generators.\n",
            "  warnings.warn('`Model.fit_generator` is deprecated and '\n"
          ],
          "name": "stderr"
        },
        {
          "output_type": "stream",
          "text": [
            "Epoch 1/20\n",
            "134/134 [==============================] - 2192s 16s/step - loss: 0.6707 - acc: 0.5746 - val_loss: 0.6318 - val_acc: 0.6283\n",
            "Epoch 2/20\n",
            "134/134 [==============================] - 44s 331ms/step - loss: 0.6002 - acc: 0.6719 - val_loss: 0.7201 - val_acc: 0.5980\n",
            "Epoch 3/20\n",
            "134/134 [==============================] - 44s 326ms/step - loss: 0.5595 - acc: 0.7080 - val_loss: 0.5771 - val_acc: 0.6833\n",
            "Epoch 4/20\n",
            "134/134 [==============================] - 44s 327ms/step - loss: 0.5211 - acc: 0.7381 - val_loss: 0.5969 - val_acc: 0.6722\n",
            "Epoch 5/20\n",
            "134/134 [==============================] - 44s 328ms/step - loss: 0.4887 - acc: 0.7644 - val_loss: 0.4966 - val_acc: 0.7586\n",
            "Epoch 6/20\n",
            "134/134 [==============================] - 44s 326ms/step - loss: 0.4567 - acc: 0.7860 - val_loss: 0.5006 - val_acc: 0.7596\n",
            "Epoch 7/20\n",
            "134/134 [==============================] - 44s 327ms/step - loss: 0.4399 - acc: 0.7981 - val_loss: 0.4602 - val_acc: 0.7854\n",
            "Epoch 8/20\n",
            "134/134 [==============================] - 44s 330ms/step - loss: 0.4157 - acc: 0.8115 - val_loss: 0.4535 - val_acc: 0.7864\n",
            "Epoch 9/20\n",
            "134/134 [==============================] - 44s 327ms/step - loss: 0.3905 - acc: 0.8232 - val_loss: 0.4527 - val_acc: 0.7970\n",
            "Epoch 10/20\n",
            "134/134 [==============================] - 44s 328ms/step - loss: 0.3679 - acc: 0.8401 - val_loss: 0.4630 - val_acc: 0.7909\n",
            "Epoch 11/20\n",
            "134/134 [==============================] - 44s 328ms/step - loss: 0.3469 - acc: 0.8457 - val_loss: 0.4682 - val_acc: 0.7879\n",
            "Epoch 12/20\n",
            "134/134 [==============================] - 43s 324ms/step - loss: 0.3280 - acc: 0.8572 - val_loss: 0.4979 - val_acc: 0.7778\n",
            "Epoch 13/20\n",
            "134/134 [==============================] - 44s 329ms/step - loss: 0.3093 - acc: 0.8658 - val_loss: 0.3967 - val_acc: 0.8273\n",
            "Epoch 14/20\n",
            "134/134 [==============================] - 44s 328ms/step - loss: 0.2782 - acc: 0.8819 - val_loss: 0.4279 - val_acc: 0.8045\n",
            "Epoch 15/20\n",
            "134/134 [==============================] - 44s 332ms/step - loss: 0.2595 - acc: 0.8924 - val_loss: 0.4294 - val_acc: 0.7944\n",
            "Epoch 16/20\n",
            "134/134 [==============================] - 44s 326ms/step - loss: 0.2394 - acc: 0.9021 - val_loss: 0.5264 - val_acc: 0.7894\n",
            "Epoch 17/20\n",
            "134/134 [==============================] - 44s 325ms/step - loss: 0.2096 - acc: 0.9153 - val_loss: 0.4269 - val_acc: 0.8212\n",
            "Epoch 18/20\n",
            "134/134 [==============================] - 44s 328ms/step - loss: 0.1871 - acc: 0.9301 - val_loss: 0.4402 - val_acc: 0.8136\n",
            "Epoch 19/20\n",
            "134/134 [==============================] - 44s 330ms/step - loss: 0.1661 - acc: 0.9389 - val_loss: 0.4753 - val_acc: 0.8076\n",
            "Epoch 20/20\n",
            "134/134 [==============================] - 44s 327ms/step - loss: 0.1486 - acc: 0.9456 - val_loss: 0.5254 - val_acc: 0.7980\n"
          ],
          "name": "stdout"
        }
      ]
    },
    {
      "cell_type": "code",
      "metadata": {
        "id": "I5_C7p2O5-s8"
      },
      "source": [
        "model.save('cat vs dog.h5')\n"
      ],
      "execution_count": 10,
      "outputs": []
    },
    {
      "cell_type": "code",
      "metadata": {
        "colab": {
          "base_uri": "https://localhost:8080/",
          "height": 545
        },
        "id": "sxF_X3diX83X",
        "outputId": "30136bad-627b-47aa-cbb3-b5849772a140"
      },
      "source": [
        "import matplotlib.pyplot as plt\n",
        "acc = history.history['acc']\n",
        "val_acc = history.history['val_acc']\n",
        "loss = history.history['loss']\n",
        "val_loss = history.history['val_loss']\n",
        "epochs = range(1, len(acc) + 1)\n",
        "plt.plot(epochs, acc, 'bo', label='Training acc')\n",
        "plt.plot(epochs, val_acc, 'b', label='Validation acc')\n",
        "plt.title('Training and validation accuracy')\n",
        "plt.legend()\n",
        "plt.figure()\n",
        "plt.plot(epochs, loss, 'bo', label='Training loss')\n",
        "plt.plot(epochs, val_loss, 'b', label='Validation loss')\n",
        "plt.title('Training and validation loss')\n",
        "plt.legend()\n",
        "plt.show()"
      ],
      "execution_count": 9,
      "outputs": [
        {
          "output_type": "display_data",
          "data": {
            "image/png": "[encoded data removed]",
            "text/plain": [
              "<Figure size 432x288 with 1 Axes>"
            ]
          },
          "metadata": {
            "tags": [],
            "needs_background": "light"
          }
        },
        {
          "output_type": "display_data",
          "data": {
            "image/png": "[encoded data removed]",
            "text/plain": [
              "<Figure size 432x288 with 1 Axes>"
            ]
          },
          "metadata": {
            "tags": [],
            "needs_background": "light"
          }
        }
      ]
    },
    {
      "cell_type": "code",
      "metadata": {
        "id": "xBTYunOhji75"
      },
      "source": [
        ""
      ],
      "execution_count": null,
      "outputs": []
    }
  ]
}