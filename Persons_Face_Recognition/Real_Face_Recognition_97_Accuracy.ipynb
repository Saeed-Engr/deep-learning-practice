{
 "cells": [
  {
   "cell_type": "code",
   "execution_count": 1,
   "id": "55d02299",
   "metadata": {},
   "outputs": [],
   "source": [
    "import tensorflow"
   ]
  },
  {
   "cell_type": "code",
   "execution_count": 40,
   "id": "4044d45a",
   "metadata": {},
   "outputs": [],
   "source": [
    "from tensorflow.keras import layers\n",
    "from tensorflow.keras import models\n",
    "model = models.Sequential()\n",
    "model.add(layers.Conv2D(32, (3, 3), activation='relu',\n",
    "input_shape=(150, 150, 3)))\n",
    "model.add(layers.MaxPooling2D((2, 2)))\n",
    "model.add(layers.Conv2D(64, (3, 3), activation='relu'))\n",
    "model.add(layers.MaxPooling2D((2, 2)))\n",
    "model.add(layers.Conv2D(128, (3, 3), activation='relu'))\n",
    "model.add(layers.MaxPooling2D((2, 2)))\n",
    "model.add(layers.Conv2D(128, (3, 3), activation='relu'))\n",
    "model.add(layers.MaxPooling2D((2, 2)))\n",
    "model.add(layers.Flatten())\n",
    "model.add(layers.Dense(512, activation='relu'))\n",
    "model.add(layers.Dense(128, activation='relu'))\n",
    "\n",
    "model.add(layers.Dense(3, activation='softmax'))"
   ]
  },
  {
   "cell_type": "code",
   "execution_count": 41,
   "id": "e15e946a",
   "metadata": {},
   "outputs": [],
   "source": [
    "from tensorflow.keras import optimizers\n",
    "model.compile(loss='categorical_crossentropy',\n",
    "optimizer=optimizers.RMSprop(learning_rate=1e-4),\n",
    "metrics=['acc'])"
   ]
  },
  {
   "cell_type": "code",
   "execution_count": 42,
   "id": "c967bc08",
   "metadata": {},
   "outputs": [],
   "source": [
    "from tensorflow.keras.preprocessing.image import ImageDataGenerator\n",
    "train_datagen = ImageDataGenerator(rescale=1./255)\n",
    "validation_datagen = ImageDataGenerator(rescale=1./255)\n",
    "test_datagen = ImageDataGenerator(rescale=1./255)"
   ]
  },
  {
   "cell_type": "code",
   "execution_count": 43,
   "id": "2151f9b6",
   "metadata": {},
   "outputs": [
    {
     "name": "stdout",
     "output_type": "stream",
     "text": [
      "Found 294 images belonging to 3 classes.\n"
     ]
    }
   ],
   "source": [
    "train_generator = train_datagen.flow_from_directory(\n",
    "'Train',\n",
    "target_size=(150, 150),batch_size=32,class_mode='categorical')"
   ]
  },
  {
   "cell_type": "code",
   "execution_count": 44,
   "id": "4da0f51e",
   "metadata": {},
   "outputs": [
    {
     "name": "stdout",
     "output_type": "stream",
     "text": [
      "Found 294 images belonging to 3 classes.\n"
     ]
    }
   ],
   "source": [
    "test_generator = test_datagen.flow_from_directory(\n",
    "'Test',target_size=(150, 150),\n",
    "batch_size=32,\n",
    "class_mode='categorical')"
   ]
  },
  {
   "cell_type": "code",
   "execution_count": 45,
   "id": "1c2a1ceb",
   "metadata": {},
   "outputs": [
    {
     "name": "stdout",
     "output_type": "stream",
     "text": [
      "Found 294 images belonging to 3 classes.\n"
     ]
    }
   ],
   "source": [
    "validation_generator = validation_datagen.flow_from_directory(\n",
    "    'Validation',\n",
    "     target_size=(150,150),batch_size=32,class_mode=\"categorical\")"
   ]
  },
  {
   "cell_type": "code",
   "execution_count": 46,
   "id": "1a4d70b6",
   "metadata": {},
   "outputs": [
    {
     "name": "stdout",
     "output_type": "stream",
     "text": [
      "Epoch 1/10\n",
      "10/10 [==============================] - 23s 2s/step - loss: 1.0291 - acc: 0.4252 - val_loss: 0.8664 - val_acc: 0.7551\n",
      "Epoch 2/10\n",
      "10/10 [==============================] - 20s 2s/step - loss: 0.7042 - acc: 0.7653 - val_loss: 0.6790 - val_acc: 0.7109\n",
      "Epoch 3/10\n",
      "10/10 [==============================] - 20s 2s/step - loss: 0.4812 - acc: 0.8367 - val_loss: 0.3989 - val_acc: 0.8571\n",
      "Epoch 4/10\n",
      "10/10 [==============================] - 20s 2s/step - loss: 0.2754 - acc: 0.9422 - val_loss: 0.4968 - val_acc: 0.6973\n",
      "Epoch 5/10\n",
      "10/10 [==============================] - 22s 2s/step - loss: 0.2008 - acc: 0.9456 - val_loss: 0.1575 - val_acc: 0.9762\n",
      "Epoch 6/10\n",
      "10/10 [==============================] - 20s 2s/step - loss: 0.1593 - acc: 0.9728 - val_loss: 0.1115 - val_acc: 0.9762\n",
      "Epoch 7/10\n",
      "10/10 [==============================] - 20s 2s/step - loss: 0.0718 - acc: 0.9864 - val_loss: 0.1010 - val_acc: 0.9762\n",
      "Epoch 8/10\n",
      "10/10 [==============================] - 20s 2s/step - loss: 0.0399 - acc: 1.0000 - val_loss: 0.0942 - val_acc: 0.9762\n",
      "Epoch 9/10\n",
      "10/10 [==============================] - 21s 2s/step - loss: 0.2164 - acc: 0.9218 - val_loss: 0.1546 - val_acc: 0.9762\n",
      "Epoch 10/10\n",
      "10/10 [==============================] - 20s 2s/step - loss: 0.0264 - acc: 1.0000 - val_loss: 0.0937 - val_acc: 0.9762\n"
     ]
    }
   ],
   "source": [
    "\n",
    "history = model.fit_generator(\n",
    "train_generator,\n",
    "steps_per_epoch=10,\n",
    "epochs=10,\n",
    "validation_data=validation_generator,\n",
    "validation_steps=10)"
   ]
  },
  {
   "cell_type": "code",
   "execution_count": 47,
   "id": "d2829451",
   "metadata": {},
   "outputs": [
    {
     "name": "stdout",
     "output_type": "stream",
     "text": [
      "10/10 [==============================] - 5s 490ms/step - loss: 0.0937 - acc: 0.9762\n"
     ]
    },
    {
     "data": {
      "text/plain": [
       "[0.0937466248869896, 0.976190447807312]"
      ]
     },
     "execution_count": 47,
     "metadata": {},
     "output_type": "execute_result"
    }
   ],
   "source": [
    "model.evaluate(test_generator)"
   ]
  },
  {
   "cell_type": "code",
   "execution_count": 48,
   "id": "e6d8ed25",
   "metadata": {},
   "outputs": [
    {
     "data": {
      "image/png": "[encoded data removed]",
      "text/plain": [
       "<Figure size 432x288 with 1 Axes>"
      ]
     },
     "metadata": {
      "needs_background": "light"
     },
     "output_type": "display_data"
    },
    {
     "data": {
      "image/png": "[encoded data removed]",
      "text/plain": [
       "<Figure size 432x288 with 1 Axes>"
      ]
     },
     "metadata": {
      "needs_background": "light"
     },
     "output_type": "display_data"
    }
   ],
   "source": [
    "import matplotlib.pyplot as plt\n",
    "acc = history.history['acc']\n",
    "val_acc = history.history['val_acc']\n",
    "loss = history.history['loss']\n",
    "val_loss = history.history['val_loss']\n",
    "epochs = range(1, len(acc) + 1)\n",
    "plt.plot(epochs, acc, 'bo', label='Training acc')\n",
    "plt.plot(epochs, val_acc, 'b', label='Validation acc')\n",
    "plt.title('Training and validation accuracy')\n",
    "plt.legend()\n",
    "plt.figure()\n",
    "plt.plot(epochs, loss, 'bo', label='Training loss')\n",
    "plt.plot(epochs, val_loss, 'b', label='Validation loss')\n",
    "plt.title('Training and validation loss')\n",
    "plt.legend()\n",
    "plt.show()"
   ]
  },
  {
   "cell_type": "code",
   "execution_count": 56,
   "id": "284fc063",
   "metadata": {},
   "outputs": [],
   "source": [
    "model.save('Real_Face_Recognition.h5')"
   ]
  },
  {
   "cell_type": "code",
   "execution_count": 49,
   "id": "ec7d8cb1",
   "metadata": {},
   "outputs": [],
   "source": [
    "from tensorflow.keras.preprocessing import image\n",
    "import numpy as np"
   ]
  },
  {
   "cell_type": "code",
   "execution_count": 50,
   "id": "4fbdc1db",
   "metadata": {},
   "outputs": [],
   "source": [
    "img = image.load_img(\"Test/Akbar/13.jpg\", target_size=(150,150))\n",
    "x=image.img_to_array(img) / 255\n",
    "resized_img_np = np.expand_dims(x,axis=0)\n",
    "prediction = model.predict(resized_img_np)"
   ]
  },
  {
   "cell_type": "code",
   "execution_count": 51,
   "id": "04d83346",
   "metadata": {},
   "outputs": [
    {
     "data": {
      "text/plain": [
       "array([[9.9575990e-01, 3.7686876e-03, 4.7142772e-04]], dtype=float32)"
      ]
     },
     "execution_count": 51,
     "metadata": {},
     "output_type": "execute_result"
    }
   ],
   "source": [
    "prediction"
   ]
  },
  {
   "cell_type": "code",
   "execution_count": 52,
   "id": "f7314fd6",
   "metadata": {},
   "outputs": [],
   "source": [
    "img = image.load_img(\"Test/Saeed/30.jpg\", target_size=(150,150))\n",
    "x=image.img_to_array(img) / 255\n",
    "resized_img_np = np.expand_dims(x,axis=0)\n",
    "prediction = model.predict(resized_img_np)"
   ]
  },
  {
   "cell_type": "code",
   "execution_count": 53,
   "id": "37e15a77",
   "metadata": {},
   "outputs": [
    {
     "data": {
      "text/plain": [
       "array([[0.00262845, 0.9955226 , 0.00184896]], dtype=float32)"
      ]
     },
     "execution_count": 53,
     "metadata": {},
     "output_type": "execute_result"
    }
   ],
   "source": [
    "prediction"
   ]
  },
  {
   "cell_type": "code",
   "execution_count": 54,
   "id": "31918827",
   "metadata": {},
   "outputs": [],
   "source": [
    "img = image.load_img(\"Test/Tariq/30.jpg\", target_size=(150,150))\n",
    "x=image.img_to_array(img) / 255\n",
    "resized_img_np = np.expand_dims(x,axis=0)\n",
    "prediction = model.predict(resized_img_np)"
   ]
  },
  {
   "cell_type": "code",
   "execution_count": 55,
   "id": "cddaf6c9",
   "metadata": {},
   "outputs": [
    {
     "data": {
      "text/plain": [
       "array([[2.8559202e-04, 5.6125980e-04, 9.9915314e-01]], dtype=float32)"
      ]
     },
     "execution_count": 55,
     "metadata": {},
     "output_type": "execute_result"
    }
   ],
   "source": [
    "prediction"
   ]
  },
  {
   "cell_type": "code",
   "execution_count": null,
   "id": "58597e4a",
   "metadata": {},
   "outputs": [],
   "source": []
  }
 ],
 "metadata": {
  "kernelspec": {
   "display_name": "Python 3",
   "language": "python",
   "name": "python3"
  },
  "language_info": {
   "codemirror_mode": {
    "name": "ipython",
    "version": 3
   },
   "file_extension": ".py",
   "mimetype": "text/x-python",
   "name": "python",
   "nbconvert_exporter": "python",
   "pygments_lexer": "ipython3",
   "version": "3.8.8"
  }
 },
 "nbformat": 4,
 "nbformat_minor": 5
}
