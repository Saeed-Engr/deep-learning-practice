{
 "cells": [
  {
   "cell_type": "code",
   "execution_count": 16,
   "id": "71bc4e40",
   "metadata": {},
   "outputs": [],
   "source": [
    "import tensorflow"
   ]
  },
  {
   "cell_type": "code",
   "execution_count": 17,
   "id": "dfbf8844",
   "metadata": {},
   "outputs": [],
   "source": [
    "from tensorflow.keras.preprocessing.image import ImageDataGenerator\n",
    "flower_data = ImageDataGenerator(rescale=1./255)\n"
   ]
  },
  {
   "cell_type": "code",
   "execution_count": 18,
   "id": "4f652061",
   "metadata": {},
   "outputs": [
    {
     "name": "stdout",
     "output_type": "stream",
     "text": [
      "Found 4323 images belonging to 5 classes.\n"
     ]
    }
   ],
   "source": [
    "total_data = flower_data.flow_from_directory('flowers')\n"
   ]
  },
  {
   "cell_type": "code",
   "execution_count": 19,
   "id": "8c4bce89",
   "metadata": {},
   "outputs": [],
   "source": [
    "from sklearn.model_selection import train_test_split"
   ]
  },
  {
   "cell_type": "code",
   "execution_count": 20,
   "id": "eaca000d",
   "metadata": {},
   "outputs": [],
   "source": [
    "\n",
    "#train_data, test_data = train_test_split(total_data, train_size = 0.80, test_size = 0.20, random_state = 0)"
   ]
  },
  {
   "cell_type": "code",
   "execution_count": 21,
   "id": "47c49c95",
   "metadata": {},
   "outputs": [],
   "source": [
    "#print(len(train_data))"
   ]
  },
  {
   "cell_type": "code",
   "execution_count": 22,
   "id": "a4126fbd",
   "metadata": {},
   "outputs": [],
   "source": [
    "#len(test_data)"
   ]
  },
  {
   "cell_type": "code",
   "execution_count": 23,
   "id": "15dad5d5",
   "metadata": {},
   "outputs": [],
   "source": [
    "import splitfolders"
   ]
  },
  {
   "cell_type": "code",
   "execution_count": 27,
   "id": "475fc1f2",
   "metadata": {},
   "outputs": [
    {
     "name": "stderr",
     "output_type": "stream",
     "text": [
      "\n",
      "Copying files: 0 files [00:00, ? files/s]\u001b[A\n",
      "Copying files: 20 files [00:00, 192.30 files/s]\u001b[A\n",
      "Copying files: 66 files [00:00, 336.25 files/s]\u001b[A\n",
      "Copying files: 124 files [00:00, 438.93 files/s]\u001b[A\n",
      "Copying files: 180 files [00:00, 468.82 files/s]\u001b[A\n",
      "Copying files: 227 files [00:00, 467.58 files/s]\u001b[A\n",
      "Copying files: 274 files [00:00, 464.17 files/s]\u001b[A\n",
      "Copying files: 324 files [00:00, 472.23 files/s]\u001b[A\n",
      "Copying files: 372 files [00:00, 471.46 files/s]\u001b[A\n",
      "Copying files: 430 files [00:00, 489.42 files/s]\u001b[A\n",
      "Copying files: 487 files [00:01, 509.15 files/s]\u001b[A\n",
      "Copying files: 538 files [00:01, 503.92 files/s]\u001b[A\n",
      "Copying files: 589 files [00:01, 502.96 files/s]\u001b[A\n",
      "Copying files: 640 files [00:01, 487.73 files/s]\u001b[A\n",
      "Copying files: 692 files [00:01, 491.38 files/s]\u001b[A\n",
      "Copying files: 742 files [00:01, 478.19 files/s]\u001b[A\n",
      "Copying files: 790 files [00:01, 373.80 files/s]\u001b[A\n",
      "Copying files: 831 files [00:01, 374.99 files/s]\u001b[A\n",
      "Copying files: 878 files [00:01, 395.05 files/s]\u001b[A\n",
      "Copying files: 935 files [00:02, 428.43 files/s]\u001b[A\n",
      "Copying files: 990 files [00:02, 445.76 files/s]\u001b[A\n",
      "Copying files: 1039 files [00:02, 455.39 files/s]\u001b[A\n",
      "Copying files: 1086 files [00:02, 454.40 files/s]\u001b[A\n",
      "Copying files: 1134 files [00:02, 456.46 files/s]\u001b[A\n",
      "Copying files: 1183 files [00:02, 460.76 files/s]\u001b[A\n",
      "Copying files: 1230 files [00:02, 458.15 files/s]\u001b[A\n",
      "Copying files: 1285 files [00:02, 479.10 files/s]\u001b[A\n",
      "Copying files: 1348 files [00:02, 506.20 files/s]\u001b[A\n",
      "Copying files: 1402 files [00:03, 502.74 files/s]\u001b[A\n",
      "Copying files: 1457 files [00:03, 502.21 files/s]\u001b[A\n",
      "Copying files: 1508 files [00:03, 502.00 files/s]\u001b[A\n",
      "Copying files: 1559 files [00:03, 498.57 files/s]\u001b[A\n",
      "Copying files: 1609 files [00:03, 425.33 files/s]\u001b[A\n",
      "Copying files: 1654 files [00:03, 410.39 files/s]\u001b[A\n",
      "Copying files: 1697 files [00:03, 402.89 files/s]\u001b[A\n",
      "Copying files: 1739 files [00:03, 386.89 files/s]\u001b[A\n",
      "Copying files: 1779 files [00:03, 378.58 files/s]\u001b[A\n",
      "Copying files: 1825 files [00:04, 345.62 files/s]\u001b[A\n",
      "Copying files: 1871 files [00:04, 368.61 files/s]\u001b[A\n",
      "Copying files: 1925 files [00:04, 401.30 files/s]\u001b[A\n",
      "Copying files: 1967 files [00:04, 403.25 files/s]\u001b[A\n",
      "Copying files: 2009 files [00:04, 405.49 files/s]\u001b[A\n",
      "Copying files: 2061 files [00:04, 426.38 files/s]\u001b[A\n",
      "Copying files: 2112 files [00:04, 447.65 files/s]\u001b[A\n",
      "Copying files: 2158 files [00:04, 446.08 files/s]\u001b[A\n",
      "Copying files: 2206 files [00:04, 450.64 files/s]\u001b[A\n",
      "Copying files: 2263 files [00:05, 469.27 files/s]\u001b[A\n",
      "Copying files: 2312 files [00:05, 473.53 files/s]\u001b[A\n",
      "Copying files: 2369 files [00:05, 482.55 files/s]\u001b[A\n",
      "Copying files: 2428 files [00:05, 509.85 files/s]\u001b[A\n",
      "Copying files: 2481 files [00:05, 497.30 files/s]\u001b[A\n",
      "Copying files: 2532 files [00:05, 493.17 files/s]\u001b[A\n",
      "Copying files: 2588 files [00:05, 506.17 files/s]\u001b[A\n",
      "Copying files: 2639 files [00:05, 436.85 files/s]\u001b[A\n",
      "Copying files: 2686 files [00:06, 443.15 files/s]\u001b[A\n",
      "Copying files: 2732 files [00:06, 401.11 files/s]\u001b[A\n",
      "Copying files: 2774 files [00:06, 401.83 files/s]\u001b[A\n",
      "Copying files: 2818 files [00:06, 407.65 files/s]\u001b[A\n",
      "Copying files: 2862 files [00:06, 412.00 files/s]\u001b[A\n",
      "Copying files: 2907 files [00:06, 417.87 files/s]\u001b[A\n",
      "Copying files: 2966 files [00:06, 452.17 files/s]\u001b[A\n",
      "Copying files: 3023 files [00:06, 465.36 files/s]\u001b[A\n",
      "Copying files: 3076 files [00:06, 481.70 files/s]\u001b[A\n",
      "Copying files: 3126 files [00:07, 444.73 files/s]\u001b[A\n",
      "Copying files: 3173 files [00:07, 443.79 files/s]\u001b[A\n",
      "Copying files: 3231 files [00:07, 301.36 files/s]\u001b[A\n",
      "Copying files: 3274 files [00:07, 319.39 files/s]\u001b[A\n",
      "Copying files: 3312 files [00:11, 35.50 files/s] \u001b[A\n",
      "Copying files: 3343 files [00:11, 43.41 files/s]\u001b[A\n",
      "Copying files: 3396 files [00:11, 64.13 files/s]\u001b[A\n",
      "Copying files: 3451 files [00:11, 91.59 files/s]\u001b[A\n",
      "Copying files: 3506 files [00:12, 126.04 files/s]\u001b[A\n",
      "Copying files: 3555 files [00:12, 160.44 files/s]\u001b[A\n",
      "Copying files: 3614 files [00:12, 209.89 files/s]\u001b[A\n",
      "Copying files: 3665 files [00:12, 251.77 files/s]\u001b[A\n",
      "Copying files: 3713 files [00:12, 285.22 files/s]\u001b[A\n",
      "Copying files: 3764 files [00:12, 326.34 files/s]\u001b[A\n",
      "Copying files: 3811 files [00:12, 236.66 files/s]\u001b[A\n",
      "Copying files: 3855 files [00:13, 235.45 files/s]\u001b[A\n",
      "Copying files: 3888 files [00:13, 247.18 files/s]\u001b[A\n",
      "Copying files: 3920 files [00:13, 153.49 files/s]\u001b[A\n",
      "Copying files: 3951 files [00:13, 174.58 files/s]\u001b[A\n",
      "Copying files: 3978 files [00:13, 169.06 files/s]\u001b[A\n",
      "Copying files: 4001 files [00:14, 158.64 files/s]\u001b[A\n",
      "Copying files: 4021 files [00:14, 111.72 files/s]\u001b[A\n",
      "Copying files: 4041 files [00:14, 124.36 files/s]\u001b[A\n",
      "Copying files: 4058 files [00:14, 93.22 files/s] \u001b[A\n",
      "Copying files: 4072 files [00:15, 93.00 files/s]\u001b[A\n",
      "Copying files: 4088 files [00:15, 83.96 files/s]\u001b[A\n",
      "Copying files: 4105 files [00:15, 97.57 files/s]\u001b[A\n",
      "Copying files: 4118 files [00:15, 79.13 files/s]\u001b[A\n",
      "Copying files: 4129 files [00:15, 66.78 files/s]\u001b[A\n",
      "Copying files: 4138 files [00:16, 60.11 files/s]\u001b[A\n",
      "Copying files: 4154 files [00:16, 75.91 files/s]\u001b[A\n",
      "Copying files: 4164 files [00:16, 53.88 files/s]\u001b[A\n",
      "Copying files: 4179 files [00:16, 68.44 files/s]\u001b[A\n",
      "Copying files: 4196 files [00:16, 76.23 files/s]\u001b[A\n",
      "Copying files: 4228 files [00:17, 89.50 files/s]\u001b[A\n",
      "Copying files: 4243 files [00:17, 93.76 files/s]\u001b[A\n",
      "Copying files: 4254 files [00:17, 73.89 files/s]\u001b[A\n",
      "Copying files: 4269 files [00:17, 73.38 files/s]\u001b[A\n",
      "Copying files: 4295 files [00:18, 79.17 files/s]\u001b[A\n",
      "Copying files: 4326 files [00:18, 237.19 files/s][A\n"
     ]
    }
   ],
   "source": [
    "splitfolders.ratio('flowers', output=\"output\", seed=1337, ratio=(.7, 0.2,0.1)) \n"
   ]
  },
  {
   "cell_type": "code",
   "execution_count": 28,
   "id": "15ddc487",
   "metadata": {},
   "outputs": [],
   "source": [
    "train_generator = 'output/train'\n",
    "validation_generator  =  'output/validation'\n",
    "test_generator   =  'output/test'"
   ]
  },
  {
   "cell_type": "code",
   "execution_count": 29,
   "id": "1069f0b5",
   "metadata": {},
   "outputs": [
    {
     "name": "stdout",
     "output_type": "stream",
     "text": [
      "12\n",
      "17\n",
      "11\n"
     ]
    }
   ],
   "source": [
    "print(len(train_generator))\n",
    "print(len(validation_generator))\n",
    "print(len(test_generator))"
   ]
  },
  {
   "cell_type": "code",
   "execution_count": 31,
   "id": "24f0fc31",
   "metadata": {},
   "outputs": [
    {
     "name": "stdout",
     "output_type": "stream",
     "text": [
      "Found 3022 images belonging to 5 classes.\n"
     ]
    }
   ],
   "source": [
    "train_generator = flower_data.flow_from_directory(\n",
    "'output/train',\n",
    "target_size=(400,400),batch_size=24,class_mode='categorical')"
   ]
  },
  {
   "cell_type": "code",
   "execution_count": 32,
   "id": "999335cc",
   "metadata": {},
   "outputs": [
    {
     "name": "stdout",
     "output_type": "stream",
     "text": [
      "Found 439 images belonging to 5 classes.\n"
     ]
    }
   ],
   "source": [
    "train_generator = flower_data.flow_from_directory(\n",
    "'output/test',\n",
    "target_size=(400,400),batch_size=24,class_mode='categorical')"
   ]
  },
  {
   "cell_type": "code",
   "execution_count": 34,
   "id": "0478acf8",
   "metadata": {},
   "outputs": [
    {
     "name": "stdout",
     "output_type": "stream",
     "text": [
      "Found 862 images belonging to 5 classes.\n"
     ]
    }
   ],
   "source": [
    "train_generator = flower_data.flow_from_directory(\n",
    "'output/val',\n",
    "target_size=(400,400),batch_size=24,class_mode='categorical')"
   ]
  },
  {
   "cell_type": "code",
   "execution_count": null,
   "id": "b90df419",
   "metadata": {},
   "outputs": [],
   "source": []
  }
 ],
 "metadata": {
  "kernelspec": {
   "display_name": "Python 3",
   "language": "python",
   "name": "python3"
  },
  "language_info": {
   "codemirror_mode": {
    "name": "ipython",
    "version": 3
   },
   "file_extension": ".py",
   "mimetype": "text/x-python",
   "name": "python",
   "nbconvert_exporter": "python",
   "pygments_lexer": "ipython3",
   "version": "3.8.8"
  }
 },
 "nbformat": 4,
 "nbformat_minor": 5
}
