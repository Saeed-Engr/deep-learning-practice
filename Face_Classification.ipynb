{
 "cells": [
  {
   "cell_type": "code",
   "execution_count": 19,
   "id": "57ce6e9d",
   "metadata": {},
   "outputs": [],
   "source": [
    "import tensorflow"
   ]
  },
  {
   "cell_type": "code",
   "execution_count": 20,
   "id": "51cc400e",
   "metadata": {},
   "outputs": [],
   "source": [
    "from tensorflow.keras import layers\n",
    "from tensorflow.keras import models\n",
    "model = models.Sequential()\n",
    "model.add(layers.Conv2D(32, (3, 3), activation='relu',\n",
    "input_shape=(400,400, 3)))\n",
    "model.add(layers.MaxPooling2D((2, 2)))\n",
    "model.add(layers.Conv2D(64, (3, 3), activation='relu'))\n",
    "model.add(layers.MaxPooling2D((2, 2)))\n",
    "model.add(layers.Conv2D(128, (3, 3), activation='relu'))\n",
    "model.add(layers.MaxPooling2D((2, 2)))\n",
    "#model.add(layers.Conv2D(128, (3, 3), activation='relu'))\n",
    "#model.add(layers.MaxPooling2D((2, 2)))\n",
    "model.add(layers.Flatten())\n",
    "model.add(layers.Dense(512, activation='relu'))\n",
    "model.add(layers.Dense(128, activation='relu'))\n",
    "\n",
    "model.add(layers.Dense(4, activation='softmax'))"
   ]
  },
  {
   "cell_type": "code",
   "execution_count": 21,
   "id": "f9fa01f7",
   "metadata": {},
   "outputs": [],
   "source": [
    "from tensorflow.keras import optimizers\n",
    "model.compile(loss='categorical_crossentropy',\n",
    "optimizer=optimizers.RMSprop(learning_rate=1e-4),\n",
    "metrics=['acc'])"
   ]
  },
  {
   "cell_type": "code",
   "execution_count": 22,
   "id": "b8c697a4",
   "metadata": {},
   "outputs": [],
   "source": [
    "from tensorflow.keras.preprocessing.image import ImageDataGenerator\n",
    "train_datagen = ImageDataGenerator(rescale=1./255)\n",
    "validation_datagen = ImageDataGenerator(rescale=1./255)\n",
    "test_datagen = ImageDataGenerator(rescale=1./255)"
   ]
  },
  {
   "cell_type": "code",
   "execution_count": 23,
   "id": "e8d2bd54",
   "metadata": {},
   "outputs": [
    {
     "name": "stdout",
     "output_type": "stream",
     "text": [
      "Found 94 images belonging to 4 classes.\n"
     ]
    }
   ],
   "source": [
    "train_generator = train_datagen.flow_from_directory(\n",
    "'train',\n",
    "target_size=(400, 400),batch_size=5,class_mode='categorical')"
   ]
  },
  {
   "cell_type": "code",
   "execution_count": 24,
   "id": "8672c201",
   "metadata": {},
   "outputs": [
    {
     "name": "stdout",
     "output_type": "stream",
     "text": [
      "Found 34 images belonging to 4 classes.\n"
     ]
    }
   ],
   "source": [
    "validation_generator = validation_datagen.flow_from_directory(\n",
    "    'Validation',\n",
    "     target_size=(400, 400),batch_size=5,class_mode=\"categorical\")"
   ]
  },
  {
   "cell_type": "code",
   "execution_count": 25,
   "id": "058dbb3e",
   "metadata": {},
   "outputs": [
    {
     "name": "stdout",
     "output_type": "stream",
     "text": [
      "Found 26 images belonging to 4 classes.\n"
     ]
    }
   ],
   "source": [
    "test_generator = test_datagen.flow_from_directory(\n",
    "'test',target_size=(400, 400),\n",
    "batch_size=5,\n",
    "class_mode='categorical')"
   ]
  },
  {
   "cell_type": "code",
   "execution_count": 26,
   "id": "b52be42b",
   "metadata": {},
   "outputs": [
    {
     "data": {
      "text/plain": [
       "{'Abbas': 0, 'Farooq': 1, 'Saeed': 2, 'Shakeel': 3}"
      ]
     },
     "execution_count": 26,
     "metadata": {},
     "output_type": "execute_result"
    }
   ],
   "source": [
    "train_generator.class_indices"
   ]
  },
  {
   "cell_type": "code",
   "execution_count": 27,
   "id": "da09845e",
   "metadata": {},
   "outputs": [
    {
     "name": "stdout",
     "output_type": "stream",
     "text": [
      "Epoch 1/15\n",
      "10/10 [==============================] - 67s 7s/step - loss: 2.5273 - acc: 0.2600 - val_loss: 1.4300 - val_acc: 0.2647\n",
      "Epoch 2/15\n",
      "10/10 [==============================] - 58s 6s/step - loss: 1.4902 - acc: 0.2653 - val_loss: 1.3229 - val_acc: 0.2353\n",
      "Epoch 3/15\n",
      "10/10 [==============================] - 56s 6s/step - loss: 1.1531 - acc: 0.4286 - val_loss: 1.1131 - val_acc: 0.5294\n",
      "Epoch 4/15\n",
      "10/10 [==============================] - 56s 6s/step - loss: 0.9944 - acc: 0.5800 - val_loss: 0.9772 - val_acc: 0.4118\n",
      "Epoch 5/15\n",
      "10/10 [==============================] - 56s 6s/step - loss: 0.7781 - acc: 0.6939 - val_loss: 0.8000 - val_acc: 0.7647\n",
      "Epoch 6/15\n",
      "10/10 [==============================] - 56s 6s/step - loss: 0.4426 - acc: 0.9184 - val_loss: 0.4620 - val_acc: 0.8529\n",
      "Epoch 7/15\n",
      "10/10 [==============================] - 56s 6s/step - loss: 0.3391 - acc: 0.8800 - val_loss: 0.5403 - val_acc: 0.7941\n",
      "Epoch 8/15\n",
      "10/10 [==============================] - 55s 5s/step - loss: 0.1831 - acc: 0.9800 - val_loss: 0.3660 - val_acc: 0.8529\n",
      "Epoch 9/15\n",
      "10/10 [==============================] - 56s 6s/step - loss: 0.0664 - acc: 1.0000 - val_loss: 0.3778 - val_acc: 0.8824\n",
      "Epoch 10/15\n",
      "10/10 [==============================] - 56s 6s/step - loss: 0.1954 - acc: 0.9184 - val_loss: 1.4310 - val_acc: 0.5294\n",
      "Epoch 11/15\n",
      "10/10 [==============================] - 55s 6s/step - loss: 0.1624 - acc: 0.9592 - val_loss: 0.2637 - val_acc: 0.8824\n",
      "Epoch 12/15\n",
      "10/10 [==============================] - 55s 6s/step - loss: 0.0233 - acc: 1.0000 - val_loss: 0.2717 - val_acc: 0.9118\n",
      "Epoch 13/15\n",
      "10/10 [==============================] - 55s 5s/step - loss: 0.0293 - acc: 1.0000 - val_loss: 0.7977 - val_acc: 0.7647\n",
      "Epoch 14/15\n",
      "10/10 [==============================] - 56s 6s/step - loss: 0.2006 - acc: 0.9184 - val_loss: 0.2493 - val_acc: 0.9118\n",
      "Epoch 15/15\n",
      "10/10 [==============================] - 56s 6s/step - loss: 0.0095 - acc: 1.0000 - val_loss: 0.2308 - val_acc: 0.9118\n"
     ]
    }
   ],
   "source": [
    "history = model.fit_generator(\n",
    "train_generator,\n",
    "steps_per_epoch=10,\n",
    "epochs=15,\n",
    "validation_data=validation_generator,validation_steps=7)"
   ]
  },
  {
   "cell_type": "code",
   "execution_count": 28,
   "id": "ae1bde20",
   "metadata": {},
   "outputs": [
    {
     "name": "stdout",
     "output_type": "stream",
     "text": [
      "6/6 [==============================] - 9s 2s/step - loss: 0.4696 - acc: 0.8077\n"
     ]
    },
    {
     "data": {
      "text/plain": [
       "[0.4695820212364197, 0.807692289352417]"
      ]
     },
     "execution_count": 28,
     "metadata": {},
     "output_type": "execute_result"
    }
   ],
   "source": [
    "model.evaluate(test_generator)"
   ]
  },
  {
   "cell_type": "code",
   "execution_count": 29,
   "id": "e2abb68b",
   "metadata": {},
   "outputs": [],
   "source": [
    "model.save('real_face_classification.h5')"
   ]
  },
  {
   "cell_type": "code",
   "execution_count": 30,
   "id": "b5eaf8ad",
   "metadata": {},
   "outputs": [
    {
     "data": {
      "image/png": "[encoded data removed]",
      "text/plain": [
       "<Figure size 432x288 with 1 Axes>"
      ]
     },
     "metadata": {
      "needs_background": "light"
     },
     "output_type": "display_data"
    },
    {
     "data": {
      "image/png": "[encoded data removed]",
      "text/plain": [
       "<Figure size 432x288 with 1 Axes>"
      ]
     },
     "metadata": {
      "needs_background": "light"
     },
     "output_type": "display_data"
    }
   ],
   "source": [
    "import matplotlib.pyplot as plt\n",
    "acc = history.history['acc']\n",
    "val_acc = history.history['val_acc']\n",
    "loss = history.history['loss']\n",
    "val_loss = history.history['val_loss']\n",
    "epochs = range(1, len(acc) + 1)\n",
    "plt.plot(epochs, acc, 'bo', label='Training acc')\n",
    "plt.plot(epochs, val_acc, 'b', label='Validation acc')\n",
    "plt.title('Training and validation accuracy')\n",
    "plt.legend()\n",
    "plt.figure()\n",
    "plt.plot(epochs, loss, 'bo', label='Training loss')\n",
    "plt.plot(epochs, val_loss, 'b', label='Validation loss')\n",
    "plt.title('Training and validation loss')\n",
    "plt.legend()\n",
    "plt.show()"
   ]
  },
  {
   "cell_type": "code",
   "execution_count": 31,
   "id": "59360ecc",
   "metadata": {},
   "outputs": [],
   "source": [
    "from tensorflow.keras.preprocessing import image\n",
    "import numpy as np"
   ]
  },
  {
   "cell_type": "code",
   "execution_count": null,
   "id": "e9d07728",
   "metadata": {},
   "outputs": [],
   "source": [
    "#           ABBAS  ==  0 Index"
   ]
  },
  {
   "cell_type": "code",
   "execution_count": 37,
   "id": "1051c4d4",
   "metadata": {},
   "outputs": [],
   "source": [
    "img = image.load_img(\"test/Abbas/IMG_20210722_171803.jpg\", target_size=(400, 400))\n",
    "x=image.img_to_array(img) / 255\n",
    "resized_img_np = np.expand_dims(x,axis=0)\n",
    "prediction = model.predict(resized_img_np)"
   ]
  },
  {
   "cell_type": "code",
   "execution_count": 38,
   "id": "6862baaf",
   "metadata": {},
   "outputs": [
    {
     "data": {
      "text/plain": [
       "array([[0.31527624, 0.06111564, 0.6173905 , 0.00621753]], dtype=float32)"
      ]
     },
     "execution_count": 38,
     "metadata": {},
     "output_type": "execute_result"
    }
   ],
   "source": [
    "prediction   # false"
   ]
  },
  {
   "cell_type": "code",
   "execution_count": 39,
   "id": "8a91769f",
   "metadata": {},
   "outputs": [],
   "source": [
    "img = image.load_img(\"test/Abbas/IMG_20210722_171809.jpg\", target_size=(400, 400))\n",
    "x=image.img_to_array(img) / 255\n",
    "resized_img_np = np.expand_dims(x,axis=0)\n",
    "prediction = model.predict(resized_img_np)"
   ]
  },
  {
   "cell_type": "code",
   "execution_count": 40,
   "id": "bbdabc9e",
   "metadata": {},
   "outputs": [
    {
     "data": {
      "text/plain": [
       "array([[0.77374184, 0.00812464, 0.21271226, 0.00542127]], dtype=float32)"
      ]
     },
     "execution_count": 40,
     "metadata": {},
     "output_type": "execute_result"
    }
   ],
   "source": [
    "prediction   #true"
   ]
  },
  {
   "cell_type": "code",
   "execution_count": 41,
   "id": "d06f7d7b",
   "metadata": {},
   "outputs": [],
   "source": [
    "img = image.load_img(\"test/Abbas/IMG_20210722_171535.jpg\", target_size=(400, 400))\n",
    "x=image.img_to_array(img) / 255\n",
    "resized_img_np = np.expand_dims(x,axis=0)\n",
    "prediction = model.predict(resized_img_np)"
   ]
  },
  {
   "cell_type": "code",
   "execution_count": 42,
   "id": "ae27eb07",
   "metadata": {},
   "outputs": [
    {
     "data": {
      "text/plain": [
       "array([[9.9140292e-01, 6.1743776e-04, 3.6523500e-03, 4.3273610e-03]],\n",
       "      dtype=float32)"
      ]
     },
     "execution_count": 42,
     "metadata": {},
     "output_type": "execute_result"
    }
   ],
   "source": [
    "prediction    # true"
   ]
  },
  {
   "cell_type": "code",
   "execution_count": null,
   "id": "2e82a831",
   "metadata": {},
   "outputs": [],
   "source": [
    "#        FAROOQ  == 1   index"
   ]
  },
  {
   "cell_type": "code",
   "execution_count": 48,
   "id": "b1c3d446",
   "metadata": {},
   "outputs": [],
   "source": [
    "img = image.load_img(\"test/Farooq/IMG_20210720_180824.jpg\", target_size=(400, 400))\n",
    "x=image.img_to_array(img) / 255\n",
    "resized_img_np = np.expand_dims(x,axis=0)\n",
    "prediction = model.predict(resized_img_np)"
   ]
  },
  {
   "cell_type": "code",
   "execution_count": 49,
   "id": "0a5bbf55",
   "metadata": {},
   "outputs": [
    {
     "data": {
      "text/plain": [
       "array([[0.04567704, 0.9306443 , 0.01433215, 0.00934645]], dtype=float32)"
      ]
     },
     "execution_count": 49,
     "metadata": {},
     "output_type": "execute_result"
    }
   ],
   "source": [
    "prediction   # true"
   ]
  },
  {
   "cell_type": "code",
   "execution_count": 52,
   "id": "c7174134",
   "metadata": {},
   "outputs": [],
   "source": [
    "img = image.load_img(\"test/Farooq/IMG_20210722_181742.jpg\", target_size=(400, 400))\n",
    "x=image.img_to_array(img) / 255\n",
    "resized_img_np = np.expand_dims(x,axis=0)\n",
    "prediction = model.predict(resized_img_np)"
   ]
  },
  {
   "cell_type": "code",
   "execution_count": 53,
   "id": "51312bb2",
   "metadata": {},
   "outputs": [
    {
     "data": {
      "text/plain": [
       "array([[0.6907246 , 0.27174678, 0.02198732, 0.01554126]], dtype=float32)"
      ]
     },
     "execution_count": 53,
     "metadata": {},
     "output_type": "execute_result"
    }
   ],
   "source": [
    "prediction   # false"
   ]
  },
  {
   "cell_type": "code",
   "execution_count": 54,
   "id": "cb733937",
   "metadata": {},
   "outputs": [],
   "source": [
    "#      SAEED   = 2 index"
   ]
  },
  {
   "cell_type": "code",
   "execution_count": 55,
   "id": "dd552eb7",
   "metadata": {},
   "outputs": [],
   "source": [
    "img = image.load_img(\"test/Saeed/IMG_20210722_172451.jpg\", target_size=(400, 400))\n",
    "x=image.img_to_array(img) / 255\n",
    "resized_img_np = np.expand_dims(x,axis=0)\n",
    "prediction = model.predict(resized_img_np)"
   ]
  },
  {
   "cell_type": "code",
   "execution_count": 56,
   "id": "bfdee9e3",
   "metadata": {},
   "outputs": [
    {
     "data": {
      "text/plain": [
       "array([[3.6101637e-04, 4.4390251e-04, 9.9630356e-01, 2.8914944e-03]],\n",
       "      dtype=float32)"
      ]
     },
     "execution_count": 56,
     "metadata": {},
     "output_type": "execute_result"
    }
   ],
   "source": [
    "prediction    # true"
   ]
  },
  {
   "cell_type": "code",
   "execution_count": 57,
   "id": "cf096f94",
   "metadata": {},
   "outputs": [],
   "source": [
    "img = image.load_img(\"test/Saeed/IMG_20210722_172821.jpg\", target_size=(400, 400))\n",
    "x=image.img_to_array(img) / 255\n",
    "resized_img_np = np.expand_dims(x,axis=0)\n",
    "prediction = model.predict(resized_img_np)"
   ]
  },
  {
   "cell_type": "code",
   "execution_count": 58,
   "id": "876c25ec",
   "metadata": {},
   "outputs": [
    {
     "data": {
      "text/plain": [
       "array([[0.00254089, 0.0012224 , 0.9950289 , 0.00120793]], dtype=float32)"
      ]
     },
     "execution_count": 58,
     "metadata": {},
     "output_type": "execute_result"
    }
   ],
   "source": [
    "prediction     #true"
   ]
  },
  {
   "cell_type": "code",
   "execution_count": 59,
   "id": "d62ec54d",
   "metadata": {},
   "outputs": [],
   "source": [
    "img = image.load_img(\"test/Saeed/IMG_20210722_172001.jpg\", target_size=(400, 400))\n",
    "x=image.img_to_array(img) / 255\n",
    "resized_img_np = np.expand_dims(x,axis=0)\n",
    "prediction = model.predict(resized_img_np)"
   ]
  },
  {
   "cell_type": "code",
   "execution_count": 61,
   "id": "48f02d1e",
   "metadata": {},
   "outputs": [
    {
     "data": {
      "text/plain": [
       "array([[9.7478305e-06, 1.3565892e-05, 9.9988616e-01, 9.0509471e-05]],\n",
       "      dtype=float32)"
      ]
     },
     "execution_count": 61,
     "metadata": {},
     "output_type": "execute_result"
    }
   ],
   "source": [
    "prediction    # true"
   ]
  },
  {
   "cell_type": "code",
   "execution_count": 63,
   "id": "8c9cfa48",
   "metadata": {},
   "outputs": [],
   "source": [
    "#    Shakeel     ==3 index"
   ]
  },
  {
   "cell_type": "code",
   "execution_count": 64,
   "id": "c2fdaff3",
   "metadata": {},
   "outputs": [],
   "source": [
    "img = image.load_img(\"test/Shakeel/IMG_20210722_171409.jpg\", target_size=(400, 400))\n",
    "x=image.img_to_array(img) / 255\n",
    "resized_img_np = np.expand_dims(x,axis=0)\n",
    "prediction = model.predict(resized_img_np)"
   ]
  },
  {
   "cell_type": "code",
   "execution_count": 65,
   "id": "4e365589",
   "metadata": {},
   "outputs": [
    {
     "data": {
      "text/plain": [
       "array([[1.226748e-04, 3.882772e-04, 6.825984e-03, 9.926630e-01]],\n",
       "      dtype=float32)"
      ]
     },
     "execution_count": 65,
     "metadata": {},
     "output_type": "execute_result"
    }
   ],
   "source": [
    "prediction   # true"
   ]
  },
  {
   "cell_type": "code",
   "execution_count": 66,
   "id": "162db911",
   "metadata": {},
   "outputs": [],
   "source": [
    "img = image.load_img(\"test/Shakeel/IMG_20210721_131942.jpg\", target_size=(400, 400))\n",
    "x=image.img_to_array(img) / 255\n",
    "resized_img_np = np.expand_dims(x,axis=0)\n",
    "prediction = model.predict(resized_img_np)"
   ]
  },
  {
   "cell_type": "code",
   "execution_count": 67,
   "id": "9c0a9654",
   "metadata": {},
   "outputs": [
    {
     "data": {
      "text/plain": [
       "array([[0.01311398, 0.06826828, 0.00267857, 0.9159392 ]], dtype=float32)"
      ]
     },
     "execution_count": 67,
     "metadata": {},
     "output_type": "execute_result"
    }
   ],
   "source": [
    "prediction   #true"
   ]
  },
  {
   "cell_type": "code",
   "execution_count": null,
   "id": "bfba884e",
   "metadata": {},
   "outputs": [],
   "source": []
  }
 ],
 "metadata": {
  "kernelspec": {
   "display_name": "Python 3",
   "language": "python",
   "name": "python3"
  },
  "language_info": {
   "codemirror_mode": {
    "name": "ipython",
    "version": 3
   },
   "file_extension": ".py",
   "mimetype": "text/x-python",
   "name": "python",
   "nbconvert_exporter": "python",
   "pygments_lexer": "ipython3",
   "version": "3.8.8"
  }
 },
 "nbformat": 4,
 "nbformat_minor": 5
}
