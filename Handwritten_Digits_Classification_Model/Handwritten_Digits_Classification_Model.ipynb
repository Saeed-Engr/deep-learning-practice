{
  "nbformat": 4,
  "nbformat_minor": 0,
  "metadata": {
    "colab": {
      "name": " Handwritten Digits Classification Model.ipynb",
      "provenance": []
    },
    "kernelspec": {
      "name": "python3",
      "display_name": "Python 3"
    }
  },
  "cells": [
    {
      "cell_type": "code",
      "metadata": {
        "colab": {
          "base_uri": "https://localhost:8080/"
        },
        "id": "aPcDUWY5cu4C",
        "outputId": "ef9972fe-bd84-4719-ffac-c46315aab8c2"
      },
      "source": [
        "from keras.datasets import mnist\r\n",
        "(train_images, train_labels), (test_images, test_labels) = mnist.load_data()"
      ],
      "execution_count": 1,
      "outputs": [
        {
          "output_type": "stream",
          "text": [
            "Downloading data from https://storage.googleapis.com/tensorflow/tf-keras-datasets/mnist.npz\n",
            "11493376/11490434 [==============================] - 0s 0us/step\n"
          ],
          "name": "stdout"
        }
      ]
    },
    {
      "cell_type": "code",
      "metadata": {
        "colab": {
          "base_uri": "https://localhost:8080/"
        },
        "id": "QRMV8e_LdDl5",
        "outputId": "05df5e4f-81b7-4403-d2b2-9b6b610d461c"
      },
      "source": [
        " train_images.shape\r\n",
        " \r\n"
      ],
      "execution_count": 8,
      "outputs": [
        {
          "output_type": "execute_result",
          "data": {
            "text/plain": [
              "(60000, 28, 28)"
            ]
          },
          "metadata": {
            "tags": []
          },
          "execution_count": 8
        }
      ]
    },
    {
      "cell_type": "code",
      "metadata": {
        "colab": {
          "base_uri": "https://localhost:8080/"
        },
        "id": "KGzTK7rAdoiF",
        "outputId": "829cc684-0ea1-4e31-c13a-886760906e1a"
      },
      "source": [
        "test_images.shape"
      ],
      "execution_count": 9,
      "outputs": [
        {
          "output_type": "execute_result",
          "data": {
            "text/plain": [
              "(10000, 28, 28)"
            ]
          },
          "metadata": {
            "tags": []
          },
          "execution_count": 9
        }
      ]
    },
    {
      "cell_type": "code",
      "metadata": {
        "colab": {
          "base_uri": "https://localhost:8080/"
        },
        "id": "pDd-rxRYffeH",
        "outputId": "ad375d2c-a385-4f13-9b09-3996b693f399"
      },
      "source": [
        "len(train_images)"
      ],
      "execution_count": 10,
      "outputs": [
        {
          "output_type": "execute_result",
          "data": {
            "text/plain": [
              "60000"
            ]
          },
          "metadata": {
            "tags": []
          },
          "execution_count": 10
        }
      ]
    },
    {
      "cell_type": "code",
      "metadata": {
        "colab": {
          "base_uri": "https://localhost:8080/"
        },
        "id": "YCjVvCk7f9PK",
        "outputId": "2426ca38-54b0-468d-b10a-aba64773b5eb"
      },
      "source": [
        "len(test_images)"
      ],
      "execution_count": 11,
      "outputs": [
        {
          "output_type": "execute_result",
          "data": {
            "text/plain": [
              "10000"
            ]
          },
          "metadata": {
            "tags": []
          },
          "execution_count": 11
        }
      ]
    },
    {
      "cell_type": "code",
      "metadata": {
        "id": "M3RnluXHgBJx"
      },
      "source": [
        "from keras import models\r\n",
        "from keras import layers\r\n",
        "network = models.Sequential()\r\n",
        "network.add(layers.Dense(512, activation='relu', input_shape=(28 * 28,)))\r\n",
        "network.add(layers.Dense(10, activation='softmax'))"
      ],
      "execution_count": 12,
      "outputs": []
    },
    {
      "cell_type": "code",
      "metadata": {
        "id": "7j2Z_LHvg4xL"
      },
      "source": [
        "network.compile(optimizer='rmsprop',\r\n",
        "loss='categorical_crossentropy',\r\n",
        "metrics=['accuracy'])"
      ],
      "execution_count": 13,
      "outputs": []
    },
    {
      "cell_type": "code",
      "metadata": {
        "id": "T5CcXRwyjn2n"
      },
      "source": [
        "train_images = train_images.reshape((60000, 28 * 28))\r\n",
        "train_images = train_images.astype('float32') / 255\r\n",
        "test_images = test_images.reshape((10000, 28 * 28))\r\n",
        "test_images = test_images.astype('float32') / 255"
      ],
      "execution_count": 14,
      "outputs": []
    },
    {
      "cell_type": "code",
      "metadata": {
        "id": "cQZ82YTikLR0"
      },
      "source": [
        "from keras.utils import to_categorical\r\n",
        "train_labels = to_categorical(train_labels)\r\n",
        "test_labels = to_categorical(test_labels)\r\n"
      ],
      "execution_count": 15,
      "outputs": []
    },
    {
      "cell_type": "code",
      "metadata": {
        "colab": {
          "base_uri": "https://localhost:8080/"
        },
        "id": "2YaLmCKCkUgD",
        "outputId": "3884dce4-de36-4569-d35d-935aad515961"
      },
      "source": [
        "network.fit(train_images, train_labels, epochs=25, batch_size=128)\r\n"
      ],
      "execution_count": 16,
      "outputs": [
        {
          "output_type": "stream",
          "text": [
            "Epoch 1/25\n",
            "469/469 [==============================] - 5s 9ms/step - loss: 0.4268 - accuracy: 0.8751\n",
            "Epoch 2/25\n",
            "469/469 [==============================] - 5s 10ms/step - loss: 0.1116 - accuracy: 0.9670\n",
            "Epoch 3/25\n",
            "469/469 [==============================] - 4s 10ms/step - loss: 0.0700 - accuracy: 0.9789\n",
            "Epoch 4/25\n",
            "469/469 [==============================] - 4s 9ms/step - loss: 0.0479 - accuracy: 0.9858\n",
            "Epoch 5/25\n",
            "469/469 [==============================] - 4s 9ms/step - loss: 0.0378 - accuracy: 0.9892\n",
            "Epoch 6/25\n",
            "469/469 [==============================] - 4s 9ms/step - loss: 0.0270 - accuracy: 0.9923\n",
            "Epoch 7/25\n",
            "469/469 [==============================] - 4s 9ms/step - loss: 0.0199 - accuracy: 0.9942\n",
            "Epoch 8/25\n",
            "469/469 [==============================] - 4s 9ms/step - loss: 0.0147 - accuracy: 0.9959\n",
            "Epoch 9/25\n",
            "469/469 [==============================] - 4s 10ms/step - loss: 0.0120 - accuracy: 0.9967\n",
            "Epoch 10/25\n",
            "469/469 [==============================] - 4s 10ms/step - loss: 0.0086 - accuracy: 0.9976\n",
            "Epoch 11/25\n",
            "469/469 [==============================] - 4s 9ms/step - loss: 0.0063 - accuracy: 0.9986\n",
            "Epoch 12/25\n",
            "469/469 [==============================] - 4s 9ms/step - loss: 0.0054 - accuracy: 0.9983\n",
            "Epoch 13/25\n",
            "469/469 [==============================] - 4s 9ms/step - loss: 0.0034 - accuracy: 0.9992\n",
            "Epoch 14/25\n",
            "469/469 [==============================] - 4s 9ms/step - loss: 0.0030 - accuracy: 0.9992\n",
            "Epoch 15/25\n",
            "469/469 [==============================] - 4s 9ms/step - loss: 0.0024 - accuracy: 0.9994\n",
            "Epoch 16/25\n",
            "469/469 [==============================] - 4s 10ms/step - loss: 0.0022 - accuracy: 0.9995\n",
            "Epoch 17/25\n",
            "469/469 [==============================] - 5s 10ms/step - loss: 0.0013 - accuracy: 0.9997\n",
            "Epoch 18/25\n",
            "469/469 [==============================] - 4s 9ms/step - loss: 0.0011 - accuracy: 0.9998\n",
            "Epoch 19/25\n",
            "469/469 [==============================] - 4s 9ms/step - loss: 9.0793e-04 - accuracy: 0.9998\n",
            "Epoch 20/25\n",
            "469/469 [==============================] - 4s 10ms/step - loss: 8.8597e-04 - accuracy: 0.9998\n",
            "Epoch 21/25\n",
            "469/469 [==============================] - 4s 10ms/step - loss: 5.7107e-04 - accuracy: 0.9999\n",
            "Epoch 22/25\n",
            "469/469 [==============================] - 4s 9ms/step - loss: 4.7781e-04 - accuracy: 0.9998\n",
            "Epoch 23/25\n",
            "469/469 [==============================] - 5s 10ms/step - loss: 4.7219e-04 - accuracy: 0.9999\n",
            "Epoch 24/25\n",
            "469/469 [==============================] - 5s 10ms/step - loss: 4.0111e-04 - accuracy: 0.9999\n",
            "Epoch 25/25\n",
            "469/469 [==============================] - 5s 10ms/step - loss: 1.9484e-04 - accuracy: 1.0000\n"
          ],
          "name": "stdout"
        },
        {
          "output_type": "execute_result",
          "data": {
            "text/plain": [
              "<tensorflow.python.keras.callbacks.History at 0x7f2fcc0c8c50>"
            ]
          },
          "metadata": {
            "tags": []
          },
          "execution_count": 16
        }
      ]
    },
    {
      "cell_type": "code",
      "metadata": {
        "colab": {
          "base_uri": "https://localhost:8080/"
        },
        "id": "a0O0Kzw7lAd8",
        "outputId": "2eea2ad3-4600-47c7-c779-44915db2016b"
      },
      "source": [
        "test_loss, test_acc = network.evaluate(test_images, test_labels)"
      ],
      "execution_count": 17,
      "outputs": [
        {
          "output_type": "stream",
          "text": [
            "313/313 [==============================] - 1s 2ms/step - loss: 0.0966 - accuracy: 0.9827\n"
          ],
          "name": "stdout"
        }
      ]
    },
    {
      "cell_type": "code",
      "metadata": {
        "colab": {
          "base_uri": "https://localhost:8080/"
        },
        "id": "oshupZp0l1Fr",
        "outputId": "8cce33b6-aadd-46af-906c-0cd523e3e939"
      },
      "source": [
        "print(test_acc)"
      ],
      "execution_count": 18,
      "outputs": [
        {
          "output_type": "stream",
          "text": [
            "0.982699990272522\n"
          ],
          "name": "stdout"
        }
      ]
    },
    {
      "cell_type": "code",
      "metadata": {
        "id": "QcXxWNk0mJOp"
      },
      "source": [
        ""
      ],
      "execution_count": null,
      "outputs": []
    }
  ]
}