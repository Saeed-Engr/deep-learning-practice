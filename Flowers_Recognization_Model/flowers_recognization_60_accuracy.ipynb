{
  "nbformat": 4,
  "nbformat_minor": 0,
  "metadata": {
    "colab": {
      "name": "flowers_recognization_model.ipynb",
      "provenance": []
    },
    "kernelspec": {
      "name": "python3",
      "display_name": "Python 3"
    },
    "language_info": {
      "name": "python"
    },
    "accelerator": "GPU"
  },
  "cells": [
    {
      "cell_type": "code",
      "metadata": {
        "id": "rSMTBEEi_Znt"
      },
      "source": [
        "from tensorflow.keras import layers\n",
        "from tensorflow.keras import models\n",
        "model = models.Sequential()\n",
        "model.add(layers.Conv2D(32, (3, 3), activation='relu',\n",
        "input_shape=(150, 150, 3)))\n",
        "model.add(layers.MaxPooling2D((2, 2)))\n",
        "model.add(layers.Conv2D(64, (3, 3), activation='relu'))\n",
        "model.add(layers.MaxPooling2D((2, 2)))\n",
        "model.add(layers.Conv2D(128, (3, 3), activation='relu'))\n",
        "model.add(layers.MaxPooling2D((2, 2)))\n",
        "model.add(layers.Conv2D(128, (3, 3), activation='relu'))\n",
        "model.add(layers.MaxPooling2D((2, 2)))\n",
        "model.add(layers.Flatten())\n",
        "model.add(layers.Dense(512, activation='relu'))\n",
        "model.add(layers.Dense(128, activation='relu'))\n",
        "\n",
        "model.add(layers.Dense(5, activation='softmax'))"
      ],
      "execution_count": null,
      "outputs": []
    },
    {
      "cell_type": "code",
      "metadata": {
        "id": "68eBTzTk_hO-"
      },
      "source": [
        "from tensorflow.keras import optimizers\n",
        "model.compile(loss='categorical_crossentropy',\n",
        "optimizer=optimizers.RMSprop(learning_rate=1e-4),\n",
        "metrics=['acc'])"
      ],
      "execution_count": null,
      "outputs": []
    },
    {
      "cell_type": "code",
      "metadata": {
        "id": "3nvOq7g6_lSA"
      },
      "source": [
        "from tensorflow.keras.preprocessing.image import ImageDataGenerator\n",
        "train_datagen = ImageDataGenerator(rescale=1./255)\n",
        "validation_datagen = ImageDataGenerator(rescale=1./255)\n",
        "test_datagen = ImageDataGenerator(rescale=1./255)"
      ],
      "execution_count": null,
      "outputs": []
    },
    {
      "cell_type": "code",
      "metadata": {
        "colab": {
          "base_uri": "https://localhost:8080/"
        },
        "id": "4wVNUUhB_o-b",
        "outputId": "db2c0b0e-87bf-4148-dd3a-5bbd5764b18c"
      },
      "source": [
        "train_generator = train_datagen.flow_from_directory(\n",
        "'/content/drive/MyDrive/FLOWER PREPROCESSED/train',\n",
        "target_size=(150, 150),batch_size=60,class_mode='categorical')"
      ],
      "execution_count": null,
      "outputs": [
        {
          "output_type": "stream",
          "text": [
            "Found 2321 images belonging to 5 classes.\n"
          ],
          "name": "stdout"
        }
      ]
    },
    {
      "cell_type": "code",
      "metadata": {
        "colab": {
          "base_uri": "https://localhost:8080/"
        },
        "id": "alSnhM2k_u1Z",
        "outputId": "36843fd6-b0c1-4f56-c284-bbd49386ed36"
      },
      "source": [
        "validation_generator = validation_datagen.flow_from_directory(\n",
        "    '/content/drive/MyDrive/FLOWER PREPROCESSED/validation',\n",
        "      target_size=(150,150),batch_size=60,class_mode=\"categorical\")"
      ],
      "execution_count": null,
      "outputs": [
        {
          "output_type": "stream",
          "text": [
            "Found 997 images belonging to 5 classes.\n"
          ],
          "name": "stdout"
        }
      ]
    },
    {
      "cell_type": "code",
      "metadata": {
        "colab": {
          "base_uri": "https://localhost:8080/"
        },
        "id": "FZEGgB2W_z3H",
        "outputId": "7a2a2a9e-ac1b-43d4-8b04-479e148de6f3"
      },
      "source": [
        "test_generator = test_datagen.flow_from_directory(\n",
        "'/content/drive/MyDrive/FLOWER PREPROCESSED/test',target_size=(150, 150),\n",
        "batch_size=60,\n",
        "class_mode='categorical')"
      ],
      "execution_count": null,
      "outputs": [
        {
          "output_type": "stream",
          "text": [
            "Found 495 images belonging to 5 classes.\n"
          ],
          "name": "stdout"
        }
      ]
    },
    {
      "cell_type": "code",
      "metadata": {
        "colab": {
          "base_uri": "https://localhost:8080/"
        },
        "id": "UgjgT4nN_3OB",
        "outputId": "cfbc4389-bf8a-4456-e565-a5d595795096"
      },
      "source": [
        "history = model.fit_generator(\n",
        "train_generator,\n",
        "steps_per_epoch=30,\n",
        "epochs=20,\n",
        "validation_data=validation_generator,\n",
        "validation_steps=10)"
      ],
      "execution_count": null,
      "outputs": [
        {
          "output_type": "stream",
          "text": [
            "/usr/local/lib/python3.7/dist-packages/tensorflow/python/keras/engine/training.py:1940: UserWarning: `Model.fit_generator` is deprecated and will be removed in a future version. Please use `Model.fit`, which supports generators.\n",
            "  warnings.warn('`Model.fit_generator` is deprecated and '\n"
          ],
          "name": "stderr"
        },
        {
          "output_type": "stream",
          "text": [
            "Epoch 1/20\n",
            "30/30 [==============================] - 10s 298ms/step - loss: 1.4946 - acc: 0.3245 - val_loss: 1.4419 - val_acc: 0.4083\n",
            "Epoch 2/20\n",
            "30/30 [==============================] - 9s 292ms/step - loss: 1.2515 - acc: 0.4683 - val_loss: 1.2940 - val_acc: 0.4667\n",
            "Epoch 3/20\n",
            "30/30 [==============================] - 9s 291ms/step - loss: 1.1639 - acc: 0.5194 - val_loss: 1.1923 - val_acc: 0.5150\n",
            "Epoch 4/20\n",
            "30/30 [==============================] - 9s 291ms/step - loss: 1.1041 - acc: 0.5553 - val_loss: 1.3537 - val_acc: 0.4467\n",
            "Epoch 5/20\n",
            "30/30 [==============================] - 9s 289ms/step - loss: 1.0725 - acc: 0.5733 - val_loss: 1.2714 - val_acc: 0.4833\n",
            "Epoch 6/20\n",
            "30/30 [==============================] - 9s 291ms/step - loss: 1.0378 - acc: 0.5828 - val_loss: 1.1460 - val_acc: 0.5300\n",
            "Epoch 7/20\n",
            "30/30 [==============================] - 9s 287ms/step - loss: 1.0054 - acc: 0.6042 - val_loss: 1.1337 - val_acc: 0.5383\n",
            "Epoch 8/20\n",
            "30/30 [==============================] - 9s 294ms/step - loss: 0.9832 - acc: 0.6144 - val_loss: 1.1167 - val_acc: 0.5533\n",
            "Epoch 9/20\n",
            "30/30 [==============================] - 9s 286ms/step - loss: 0.9464 - acc: 0.6244 - val_loss: 1.1677 - val_acc: 0.5433\n",
            "Epoch 10/20\n",
            "30/30 [==============================] - 9s 286ms/step - loss: 0.9461 - acc: 0.6334 - val_loss: 1.0331 - val_acc: 0.5933\n",
            "Epoch 11/20\n",
            "30/30 [==============================] - 9s 288ms/step - loss: 0.9265 - acc: 0.6389 - val_loss: 1.0319 - val_acc: 0.5867\n",
            "Epoch 12/20\n",
            "30/30 [==============================] - 9s 290ms/step - loss: 0.8921 - acc: 0.6611 - val_loss: 1.0639 - val_acc: 0.5750\n",
            "Epoch 13/20\n",
            "30/30 [==============================] - 9s 289ms/step - loss: 0.8546 - acc: 0.6654 - val_loss: 1.0058 - val_acc: 0.6333\n",
            "Epoch 14/20\n",
            "30/30 [==============================] - 9s 288ms/step - loss: 0.8612 - acc: 0.6661 - val_loss: 1.0330 - val_acc: 0.6133\n",
            "Epoch 15/20\n",
            "30/30 [==============================] - 9s 290ms/step - loss: 0.8461 - acc: 0.6760 - val_loss: 1.0600 - val_acc: 0.5867\n",
            "Epoch 16/20\n",
            "30/30 [==============================] - 9s 285ms/step - loss: 0.8303 - acc: 0.6670 - val_loss: 1.0890 - val_acc: 0.5833\n",
            "Epoch 17/20\n",
            "30/30 [==============================] - 9s 286ms/step - loss: 0.7767 - acc: 0.7069 - val_loss: 1.1384 - val_acc: 0.5650\n",
            "Epoch 18/20\n",
            "30/30 [==============================] - 9s 285ms/step - loss: 0.7705 - acc: 0.6985 - val_loss: 1.0127 - val_acc: 0.6183\n",
            "Epoch 19/20\n",
            "30/30 [==============================] - 9s 290ms/step - loss: 0.7436 - acc: 0.6974 - val_loss: 1.0740 - val_acc: 0.6033\n",
            "Epoch 20/20\n",
            "30/30 [==============================] - 9s 290ms/step - loss: 0.7282 - acc: 0.7238 - val_loss: 1.1528 - val_acc: 0.5550\n"
          ],
          "name": "stdout"
        }
      ]
    },
    {
      "cell_type": "code",
      "metadata": {
        "id": "XKqJA6nTG4sM"
      },
      "source": [
        "model.save('flower_recognization_60_accuracy.h5')"
      ],
      "execution_count": null,
      "outputs": []
    },
    {
      "cell_type": "code",
      "metadata": {
        "colab": {
          "base_uri": "https://localhost:8080/",
          "height": 545
        },
        "id": "_JpO2unyMQe8",
        "outputId": "194c74bd-8710-424b-ffbd-a4fca538ff38"
      },
      "source": [
        "import matplotlib.pyplot as plt\n",
        "acc = history.history['acc']\n",
        "val_acc = history.history['val_acc']\n",
        "loss = history.history['loss']\n",
        "val_loss = history.history['val_loss']\n",
        "epochs = range(1, len(acc) + 1)\n",
        "plt.plot(epochs, acc, 'bo', label='Training acc')\n",
        "plt.plot(epochs, val_acc, 'b', label='Validation acc')\n",
        "plt.title('Training and validation accuracy')\n",
        "plt.legend()\n",
        "plt.figure()\n",
        "plt.plot(epochs, loss, 'bo', label='Training loss')\n",
        "plt.plot(epochs, val_loss, 'b', label='Validation loss')\n",
        "plt.title('Training and validation loss')\n",
        "plt.legend()\n",
        "plt.show()\n"
      ],
      "execution_count": null,
      "outputs": [
        {
          "output_type": "display_data",
          "data": {
            "image/png": "[encoded data removed]",
            "text/plain": [
              "<Figure size 432x288 with 1 Axes>"
            ]
          },
          "metadata": {
            "tags": [],
            "needs_background": "light"
          }
        },
        {
          "output_type": "display_data",
          "data": {
            "image/png": "[encoded data removed]",
            "text/plain": [
              "<Figure size 432x288 with 1 Axes>"
            ]
          },
          "metadata": {
            "tags": [],
            "needs_background": "light"
          }
        }
      ]
    },
    {
      "cell_type": "code",
      "metadata": {
        "id": "lTB6Nd7WMWP5"
      },
      "source": [
        "from tensorflow.keras.preprocessing import image\n",
        "import numpy as np"
      ],
      "execution_count": null,
      "outputs": []
    },
    {
      "cell_type": "code",
      "metadata": {
        "id": "8T8MW-1SMzE4"
      },
      "source": [
        "img = image.load_img(\"/content/drive/MyDrive/FLOWER PREPROCESSED/test/dandelion/578938011_34918b1468.jpg\", target_size=(150, 150))\n",
        "x=image.img_to_array(img) / 255\n",
        "resized_img_np = np.expand_dims(x,axis=0)\n",
        "prediction = model.predict(resized_img_np)"
      ],
      "execution_count": null,
      "outputs": []
    },
    {
      "cell_type": "code",
      "metadata": {
        "colab": {
          "base_uri": "https://localhost:8080/"
        },
        "id": "UwYsFyKvNA7F",
        "outputId": "73294d64-bed0-4bf9-a22a-1acd5419e73b"
      },
      "source": [
        "prediction"
      ],
      "execution_count": null,
      "outputs": [
        {
          "output_type": "execute_result",
          "data": {
            "text/plain": [
              "array([[0.08543869, 0.7409856 , 0.14204478, 0.00109416, 0.03043679]],\n",
              "      dtype=float32)"
            ]
          },
          "metadata": {
            "tags": []
          },
          "execution_count": 42
        }
      ]
    },
    {
      "cell_type": "code",
      "metadata": {
        "id": "A16fevzGNMF6"
      },
      "source": [
        "img = image.load_img(\"/content/drive/MyDrive/FLOWER PREPROCESSED/test/sunflower/2598973480_07de93e91d_n.jpg\", target_size=(150, 150))\n",
        "x=image.img_to_array(img) / 255\n",
        "resized_img_np = np.expand_dims(x,axis=0)\n",
        "prediction = model.predict(resized_img_np)"
      ],
      "execution_count": null,
      "outputs": []
    },
    {
      "cell_type": "code",
      "metadata": {
        "colab": {
          "base_uri": "https://localhost:8080/"
        },
        "id": "6WSxUG0lNg1z",
        "outputId": "1a08608d-1de2-4b3d-845c-9461a07f80b6"
      },
      "source": [
        "prediction"
      ],
      "execution_count": null,
      "outputs": [
        {
          "output_type": "execute_result",
          "data": {
            "text/plain": [
              "array([[0.01803514, 0.02815951, 0.02405916, 0.88281983, 0.04692634]],\n",
              "      dtype=float32)"
            ]
          },
          "metadata": {
            "tags": []
          },
          "execution_count": 40
        }
      ]
    },
    {
      "cell_type": "code",
      "metadata": {
        "id": "0D6PQ1UENkug"
      },
      "source": [
        ""
      ],
      "execution_count": null,
      "outputs": []
    }
  ]
}