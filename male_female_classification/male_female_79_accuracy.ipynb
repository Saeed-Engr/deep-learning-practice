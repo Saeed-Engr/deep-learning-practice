{
  "nbformat": 4,
  "nbformat_minor": 0,
  "metadata": {
    "colab": {
      "name": "male_female_79_accuracy.ipynb",
      "provenance": []
    },
    "kernelspec": {
      "name": "python3",
      "display_name": "Python 3"
    },
    "language_info": {
      "name": "python"
    },
    "accelerator": "GPU"
  },
  "cells": [
    {
      "cell_type": "code",
      "metadata": {
        "id": "fSyXHYW8V9ON"
      },
      "source": [
        "from tensorflow.keras import layers\n",
        "from tensorflow.keras import models\n",
        "model = models.Sequential()\n",
        "model.add(layers.Conv2D(32, (3, 3), activation='relu',\n",
        "input_shape=(150, 150, 3)))\n",
        "model.add(layers.MaxPooling2D((2, 2)))\n",
        "model.add(layers.Conv2D(64, (3, 3), activation='relu'))\n",
        "model.add(layers.MaxPooling2D((2, 2)))\n",
        "model.add(layers.Conv2D(128, (3, 3), activation='relu'))\n",
        "model.add(layers.MaxPooling2D((2, 2)))\n",
        "model.add(layers.Conv2D(128, (3, 3), activation='relu'))\n",
        "model.add(layers.MaxPooling2D((2, 2)))\n",
        "model.add(layers.Flatten())\n",
        "model.add(layers.Dense(512, activation='relu'))\n",
        "model.add(layers.Dense(128, activation='relu'))\n",
        "\n",
        "model.add(layers.Dense(1, activation='sigmoid'))"
      ],
      "execution_count": 45,
      "outputs": []
    },
    {
      "cell_type": "code",
      "metadata": {
        "id": "7DU810YcWFew"
      },
      "source": [
        "from tensorflow.keras import optimizers\n",
        "model.compile(loss='binary_crossentropy',\n",
        "optimizer=optimizers.RMSprop(learning_rate=1e-4),\n",
        "metrics=['acc'])"
      ],
      "execution_count": 46,
      "outputs": []
    },
    {
      "cell_type": "code",
      "metadata": {
        "id": "p737-t5wWLSZ"
      },
      "source": [
        "from tensorflow.keras.preprocessing.image import ImageDataGenerator\n",
        "train_datagen = ImageDataGenerator(rescale=1./255)\n",
        "validation_datagen = ImageDataGenerator(rescale=1./255)\n",
        "test_datagen = ImageDataGenerator(rescale=1./255)"
      ],
      "execution_count": 47,
      "outputs": []
    },
    {
      "cell_type": "code",
      "metadata": {
        "colab": {
          "base_uri": "https://localhost:8080/"
        },
        "id": "Wro-AULhWPTP",
        "outputId": "bc2dee32-b35e-444c-b548-2040e892ad35"
      },
      "source": [
        "train_generator = train_datagen.flow_from_directory(\n",
        "'/content/drive/MyDrive/DEEP_LEARNING _DATASETS/preprocessed_malefemale/train',\n",
        "target_size=(150, 150),batch_size=32,class_mode='binary')"
      ],
      "execution_count": 48,
      "outputs": [
        {
          "output_type": "stream",
          "text": [
            "Found 341 images belonging to 2 classes.\n"
          ],
          "name": "stdout"
        }
      ]
    },
    {
      "cell_type": "code",
      "metadata": {
        "colab": {
          "base_uri": "https://localhost:8080/"
        },
        "id": "ZN0k6NDpWUEF",
        "outputId": "1695acad-8287-4288-d57a-0fab962806e9"
      },
      "source": [
        "validation_generator = validation_datagen.flow_from_directory('/content/drive/MyDrive/DEEP_LEARNING _DATASETS/preprocessed_malefemale/validation',\n",
        "                                                             target_size=(150,150),batch_size=32,class_mode=\"binary\")"
      ],
      "execution_count": 49,
      "outputs": [
        {
          "output_type": "stream",
          "text": [
            "Found 160 images belonging to 2 classes.\n"
          ],
          "name": "stdout"
        }
      ]
    },
    {
      "cell_type": "code",
      "metadata": {
        "colab": {
          "base_uri": "https://localhost:8080/"
        },
        "id": "yjA_lm30WXry",
        "outputId": "883f1532-0b8e-4bb2-b0f9-6df961a93665"
      },
      "source": [
        "\n",
        "\n",
        "test_generator = test_datagen.flow_from_directory(\n",
        "'/content/drive/MyDrive/DEEP_LEARNING _DATASETS/preprocessed_malefemale/test',target_size=(150, 150),\n",
        "batch_size=32,\n",
        "class_mode='binary')"
      ],
      "execution_count": 50,
      "outputs": [
        {
          "output_type": "stream",
          "text": [
            "Found 84 images belonging to 2 classes.\n"
          ],
          "name": "stdout"
        }
      ]
    },
    {
      "cell_type": "code",
      "metadata": {
        "colab": {
          "base_uri": "https://localhost:8080/"
        },
        "id": "e7VVhpvaWa2R",
        "outputId": "51cbe559-13de-41e3-87a3-cafd7a347af3"
      },
      "source": [
        "history = model.fit_generator(\n",
        "train_generator,\n",
        "steps_per_epoch=10,\n",
        "epochs=50,\n",
        "validation_data=validation_generator,\n",
        "validation_steps=10)"
      ],
      "execution_count": 51,
      "outputs": [
        {
          "output_type": "stream",
          "text": [
            "/usr/local/lib/python3.7/dist-packages/tensorflow/python/keras/engine/training.py:1940: UserWarning: `Model.fit_generator` is deprecated and will be removed in a future version. Please use `Model.fit`, which supports generators.\n",
            "  warnings.warn('`Model.fit_generator` is deprecated and '\n"
          ],
          "name": "stderr"
        },
        {
          "output_type": "stream",
          "text": [
            "Epoch 1/50\n",
            "10/10 [==============================] - ETA: 0s - loss: 0.6909 - acc: 0.5178WARNING:tensorflow:Your input ran out of data; interrupting training. Make sure that your dataset or generator can generate at least `steps_per_epoch * epochs` batches (in this case, 10 batches). You may need to use the repeat() function when building your dataset.\n",
            "10/10 [==============================] - 4s 334ms/step - loss: 0.6909 - acc: 0.5178 - val_loss: 0.6765 - val_acc: 0.7625\n",
            "Epoch 2/50\n",
            "10/10 [==============================] - 2s 189ms/step - loss: 0.6738 - acc: 0.6278\n",
            "Epoch 3/50\n",
            "10/10 [==============================] - 2s 192ms/step - loss: 0.6449 - acc: 0.6893\n",
            "Epoch 4/50\n",
            "10/10 [==============================] - 2s 190ms/step - loss: 0.6008 - acc: 0.6958\n",
            "Epoch 5/50\n",
            "10/10 [==============================] - 2s 191ms/step - loss: 0.5729 - acc: 0.7217\n",
            "Epoch 6/50\n",
            "10/10 [==============================] - 2s 194ms/step - loss: 0.5612 - acc: 0.6926\n",
            "Epoch 7/50\n",
            "10/10 [==============================] - 2s 188ms/step - loss: 0.5677 - acc: 0.7217\n",
            "Epoch 8/50\n",
            "10/10 [==============================] - 2s 191ms/step - loss: 0.5246 - acc: 0.7443\n",
            "Epoch 9/50\n",
            "10/10 [==============================] - 2s 190ms/step - loss: 0.5385 - acc: 0.7346\n",
            "Epoch 10/50\n",
            "10/10 [==============================] - 2s 191ms/step - loss: 0.5127 - acc: 0.7573\n",
            "Epoch 11/50\n",
            "10/10 [==============================] - 2s 195ms/step - loss: 0.5113 - acc: 0.7540\n",
            "Epoch 12/50\n",
            "10/10 [==============================] - 2s 189ms/step - loss: 0.5057 - acc: 0.7670\n",
            "Epoch 13/50\n",
            "10/10 [==============================] - 2s 197ms/step - loss: 0.4986 - acc: 0.7443\n",
            "Epoch 14/50\n",
            "10/10 [==============================] - 2s 192ms/step - loss: 0.4935 - acc: 0.7702\n",
            "Epoch 15/50\n",
            "10/10 [==============================] - 2s 192ms/step - loss: 0.4878 - acc: 0.7379\n",
            "Epoch 16/50\n",
            "10/10 [==============================] - 2s 190ms/step - loss: 0.4814 - acc: 0.7670\n",
            "Epoch 17/50\n",
            "10/10 [==============================] - 2s 188ms/step - loss: 0.4761 - acc: 0.7605\n",
            "Epoch 18/50\n",
            "10/10 [==============================] - 2s 190ms/step - loss: 0.4592 - acc: 0.7864\n",
            "Epoch 19/50\n",
            "10/10 [==============================] - 2s 190ms/step - loss: 0.4362 - acc: 0.7961\n",
            "Epoch 20/50\n",
            "10/10 [==============================] - 2s 190ms/step - loss: 0.4372 - acc: 0.7929\n",
            "Epoch 21/50\n",
            "10/10 [==============================] - 2s 199ms/step - loss: 0.4351 - acc: 0.7864\n",
            "Epoch 22/50\n",
            "10/10 [==============================] - 2s 190ms/step - loss: 0.3931 - acc: 0.8350\n",
            "Epoch 23/50\n",
            "10/10 [==============================] - 2s 189ms/step - loss: 0.4104 - acc: 0.8091\n",
            "Epoch 24/50\n",
            "10/10 [==============================] - 2s 190ms/step - loss: 0.3896 - acc: 0.8252\n",
            "Epoch 25/50\n",
            "10/10 [==============================] - 2s 190ms/step - loss: 0.3954 - acc: 0.8188\n",
            "Epoch 26/50\n",
            "10/10 [==============================] - 2s 199ms/step - loss: 0.3590 - acc: 0.8511\n",
            "Epoch 27/50\n",
            "10/10 [==============================] - 2s 192ms/step - loss: 0.3770 - acc: 0.7961\n",
            "Epoch 28/50\n",
            "10/10 [==============================] - 2s 193ms/step - loss: 0.3318 - acc: 0.8608\n",
            "Epoch 29/50\n",
            "10/10 [==============================] - 2s 191ms/step - loss: 0.3155 - acc: 0.8673\n",
            "Epoch 30/50\n",
            "10/10 [==============================] - 2s 197ms/step - loss: 0.2878 - acc: 0.9062\n",
            "Epoch 31/50\n",
            "10/10 [==============================] - 2s 193ms/step - loss: 0.2914 - acc: 0.8738\n",
            "Epoch 32/50\n",
            "10/10 [==============================] - 2s 202ms/step - loss: 0.2785 - acc: 0.8835\n",
            "Epoch 33/50\n",
            "10/10 [==============================] - 2s 192ms/step - loss: 0.2604 - acc: 0.8900\n",
            "Epoch 34/50\n",
            "10/10 [==============================] - 2s 190ms/step - loss: 0.2622 - acc: 0.9126\n",
            "Epoch 35/50\n",
            "10/10 [==============================] - 2s 190ms/step - loss: 0.2506 - acc: 0.8964\n",
            "Epoch 36/50\n",
            "10/10 [==============================] - 2s 197ms/step - loss: 0.2118 - acc: 0.9256\n",
            "Epoch 37/50\n",
            "10/10 [==============================] - 2s 198ms/step - loss: 0.2377 - acc: 0.8932\n",
            "Epoch 38/50\n",
            "10/10 [==============================] - 2s 192ms/step - loss: 0.1933 - acc: 0.9450\n",
            "Epoch 39/50\n",
            "10/10 [==============================] - 2s 189ms/step - loss: 0.2282 - acc: 0.9029\n",
            "Epoch 40/50\n",
            "10/10 [==============================] - 2s 193ms/step - loss: 0.1819 - acc: 0.9450\n",
            "Epoch 41/50\n",
            "10/10 [==============================] - 2s 194ms/step - loss: 0.1798 - acc: 0.9320\n",
            "Epoch 42/50\n",
            "10/10 [==============================] - 2s 188ms/step - loss: 0.1359 - acc: 0.9676\n",
            "Epoch 43/50\n",
            "10/10 [==============================] - 2s 198ms/step - loss: 0.1523 - acc: 0.9385\n",
            "Epoch 44/50\n",
            "10/10 [==============================] - 2s 204ms/step - loss: 0.1372 - acc: 0.9579\n",
            "Epoch 45/50\n",
            "10/10 [==============================] - 2s 192ms/step - loss: 0.1413 - acc: 0.9385\n",
            "Epoch 46/50\n",
            "10/10 [==============================] - 2s 188ms/step - loss: 0.0869 - acc: 0.9871\n",
            "Epoch 47/50\n",
            "10/10 [==============================] - 2s 188ms/step - loss: 0.1329 - acc: 0.9644\n",
            "Epoch 48/50\n",
            "10/10 [==============================] - 2s 189ms/step - loss: 0.1181 - acc: 0.9579\n",
            "Epoch 49/50\n",
            "10/10 [==============================] - 2s 192ms/step - loss: 0.0988 - acc: 0.9676\n",
            "Epoch 50/50\n",
            "10/10 [==============================] - 2s 191ms/step - loss: 0.0700 - acc: 0.9871\n"
          ],
          "name": "stdout"
        }
      ]
    },
    {
      "cell_type": "code",
      "metadata": {
        "colab": {
          "base_uri": "https://localhost:8080/"
        },
        "id": "VD7-QzwwYoGl",
        "outputId": "58bd4657-c14f-49e6-dfd4-8aa14627eac5"
      },
      "source": [
        "model.evaluate(test_generator)"
      ],
      "execution_count": 52,
      "outputs": [
        {
          "output_type": "stream",
          "text": [
            "3/3 [==============================] - 15s 8s/step - loss: 0.6151 - acc: 0.7976\n"
          ],
          "name": "stdout"
        },
        {
          "output_type": "execute_result",
          "data": {
            "text/plain": [
              "[0.6151097416877747, 0.7976190447807312]"
            ]
          },
          "metadata": {
            "tags": []
          },
          "execution_count": 52
        }
      ]
    },
    {
      "cell_type": "code",
      "metadata": {
        "id": "jPF8gh1Jk-j1"
      },
      "source": [
        ""
      ],
      "execution_count": null,
      "outputs": []
    }
  ]
}