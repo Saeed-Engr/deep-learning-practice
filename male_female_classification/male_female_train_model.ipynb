{
  "nbformat": 4,
  "nbformat_minor": 0,
  "metadata": {
    "colab": {
      "name": "male_female_train_model.ipynb",
      "provenance": []
    },
    "kernelspec": {
      "name": "python3",
      "display_name": "Python 3"
    },
    "language_info": {
      "name": "python"
    },
    "accelerator": "GPU"
  },
  "cells": [
    {
      "cell_type": "code",
      "metadata": {
        "id": "sX5SmIhPhHtr"
      },
      "source": [
        "from keras import layers\n",
        "from keras import models\n",
        "model = models.Sequential()\n",
        "model.add(layers.Conv2D(32, (3, 3), activation='relu', input_shape=(28, 28, 3)))\n",
        "model.add(layers.MaxPooling2D((2, 2)))\n",
        "model.add(layers.Conv2D(64, (3, 3), activation='relu'))\n",
        "model.add(layers.MaxPooling2D((2, 2)))\n",
        "model.add(layers.Conv2D(64, (3, 3), activation='relu'))\n",
        "model.add(layers.Flatten())\n",
        "model.add(layers.Dense(64, activation='relu'))\n",
        "model.add(layers.Dense(1, activation='sigmoid'))"
      ],
      "execution_count": null,
      "outputs": []
    },
    {
      "cell_type": "code",
      "metadata": {
        "id": "Ugr6thVVhYpb"
      },
      "source": [
        "from tensorflow.keras import optimizers\n",
        "model.compile(loss='binary_crossentropy',\n",
        "optimizer=optimizers.RMSprop(learning_rate=1e-4),\n",
        "metrics=['acc'])"
      ],
      "execution_count": null,
      "outputs": []
    },
    {
      "cell_type": "code",
      "metadata": {
        "id": "OUnhEM4QhxaH"
      },
      "source": [
        "from tensorflow.keras.preprocessing.image import ImageDataGenerator\n",
        "train_datagen = ImageDataGenerator(rescale=1./255)\n",
        "validation_datagen = ImageDataGenerator(rescale=1./255)\n",
        "test_datagen = ImageDataGenerator(rescale=1./255)"
      ],
      "execution_count": null,
      "outputs": []
    },
    {
      "cell_type": "code",
      "metadata": {
        "colab": {
          "base_uri": "https://localhost:8080/"
        },
        "id": "Q7IAN6h8h0JT",
        "outputId": "f53b9f59-72e7-4d0a-b8d0-7002c62b2c03"
      },
      "source": [
        "\n",
        "train_generator = train_datagen.flow_from_directory(\n",
        "    \"/content/drive/MyDrive/DEEP_LEARNING _DATASETS/preprocessed_malefemale/train\", \n",
        "target_size=(28, 28),batch_size=30,class_mode='binary')\n"
      ],
      "execution_count": null,
      "outputs": [
        {
          "output_type": "stream",
          "text": [
            "Found 341 images belonging to 2 classes.\n"
          ],
          "name": "stdout"
        }
      ]
    },
    {
      "cell_type": "code",
      "metadata": {
        "colab": {
          "base_uri": "https://localhost:8080/"
        },
        "id": "Cg9fmAeMh6cF",
        "outputId": "d930072b-eca1-4da3-8174-714d56a57d3b"
      },
      "source": [
        "validation_generator = validation_datagen.flow_from_directory(\n",
        "    \"/content/drive/MyDrive/DEEP_LEARNING _DATASETS/preprocessed_malefemale/validation\",\n",
        "    target_size=(28, 28),batch_size=30,class_mode=\"binary\")"
      ],
      "execution_count": null,
      "outputs": [
        {
          "output_type": "stream",
          "text": [
            "Found 160 images belonging to 2 classes.\n"
          ],
          "name": "stdout"
        }
      ]
    },
    {
      "cell_type": "code",
      "metadata": {
        "colab": {
          "base_uri": "https://localhost:8080/"
        },
        "id": "zsPDx6_niTJ4",
        "outputId": "654a93aa-0b27-4fa7-b7e0-eaec39e9ada6"
      },
      "source": [
        "test_generator = test_datagen.flow_from_directory(\n",
        "\"/content/drive/MyDrive/DEEP_LEARNING _DATASETS/preprocessed_malefemale/test\",\n",
        "target_size=(28, 28),\n",
        "batch_size=30,\n",
        "class_mode='binary')"
      ],
      "execution_count": null,
      "outputs": [
        {
          "output_type": "stream",
          "text": [
            "Found 84 images belonging to 2 classes.\n"
          ],
          "name": "stdout"
        }
      ]
    },
    {
      "cell_type": "code",
      "metadata": {
        "colab": {
          "base_uri": "https://localhost:8080/"
        },
        "id": "g_N7OX99iYsW",
        "outputId": "7af1abd8-7077-4df8-950a-5c61c7ee0629"
      },
      "source": [
        "history = model.fit_generator(\n",
        "train_generator,\n",
        "steps_per_epoch=50,\n",
        "epochs=25,\n",
        "validation_data=validation_generator,validation_steps=50)\n"
      ],
      "execution_count": null,
      "outputs": [
        {
          "output_type": "stream",
          "text": [
            "/usr/local/lib/python3.7/dist-packages/keras/engine/training.py:1915: UserWarning: `Model.fit_generator` is deprecated and will be removed in a future version. Please use `Model.fit`, which supports generators.\n",
            "  warnings.warn('`Model.fit_generator` is deprecated and '\n"
          ],
          "name": "stderr"
        },
        {
          "output_type": "stream",
          "text": [
            "Epoch 1/25\n",
            "50/50 [==============================] - 17s 319ms/step - loss: 0.6800 - acc: 0.5992 - val_loss: 0.6597 - val_acc: 0.7037\n",
            "Epoch 2/25\n",
            "50/50 [==============================] - 15s 311ms/step - loss: 0.6456 - acc: 0.6951 - val_loss: 0.6242 - val_acc: 0.6701\n",
            "Epoch 3/25\n",
            "50/50 [==============================] - 15s 310ms/step - loss: 0.6080 - acc: 0.7168 - val_loss: 0.5767 - val_acc: 0.7754\n",
            "Epoch 4/25\n",
            "50/50 [==============================] - 15s 312ms/step - loss: 0.5624 - acc: 0.7390 - val_loss: 0.5543 - val_acc: 0.7313\n",
            "Epoch 5/25\n",
            "50/50 [==============================] - 15s 310ms/step - loss: 0.5503 - acc: 0.7204 - val_loss: 0.5317 - val_acc: 0.7687\n",
            "Epoch 6/25\n",
            "50/50 [==============================] - 15s 308ms/step - loss: 0.5324 - acc: 0.7286 - val_loss: 0.5242 - val_acc: 0.7672\n",
            "Epoch 7/25\n",
            "50/50 [==============================] - 15s 313ms/step - loss: 0.5113 - acc: 0.7456 - val_loss: 0.5287 - val_acc: 0.7440\n",
            "Epoch 8/25\n",
            "50/50 [==============================] - 15s 310ms/step - loss: 0.4995 - acc: 0.7665 - val_loss: 0.5082 - val_acc: 0.7657\n",
            "Epoch 9/25\n",
            "50/50 [==============================] - 15s 309ms/step - loss: 0.4955 - acc: 0.7613 - val_loss: 0.5056 - val_acc: 0.7739\n",
            "Epoch 10/25\n",
            "50/50 [==============================] - 15s 315ms/step - loss: 0.5024 - acc: 0.7503 - val_loss: 0.5165 - val_acc: 0.7261\n",
            "Epoch 11/25\n",
            "50/50 [==============================] - 16s 317ms/step - loss: 0.4951 - acc: 0.7594 - val_loss: 0.4932 - val_acc: 0.7612\n",
            "Epoch 12/25\n",
            "50/50 [==============================] - 15s 309ms/step - loss: 0.4639 - acc: 0.7759 - val_loss: 0.4864 - val_acc: 0.7754\n",
            "Epoch 13/25\n",
            "50/50 [==============================] - 15s 311ms/step - loss: 0.4510 - acc: 0.7772 - val_loss: 0.4803 - val_acc: 0.7597\n",
            "Epoch 14/25\n",
            "50/50 [==============================] - 15s 310ms/step - loss: 0.4521 - acc: 0.7736 - val_loss: 0.4818 - val_acc: 0.7679\n",
            "Epoch 15/25\n",
            "50/50 [==============================] - 15s 315ms/step - loss: 0.4389 - acc: 0.7935 - val_loss: 0.4701 - val_acc: 0.7582\n",
            "Epoch 16/25\n",
            "50/50 [==============================] - 15s 311ms/step - loss: 0.4482 - acc: 0.7818 - val_loss: 0.4743 - val_acc: 0.7791\n",
            "Epoch 17/25\n",
            "50/50 [==============================] - 15s 315ms/step - loss: 0.4257 - acc: 0.8014 - val_loss: 0.4649 - val_acc: 0.7694\n",
            "Epoch 18/25\n",
            "50/50 [==============================] - 15s 308ms/step - loss: 0.4054 - acc: 0.8147 - val_loss: 0.4922 - val_acc: 0.7619\n",
            "Epoch 19/25\n",
            "50/50 [==============================] - 15s 313ms/step - loss: 0.3969 - acc: 0.8187 - val_loss: 0.4578 - val_acc: 0.7813\n",
            "Epoch 20/25\n",
            "50/50 [==============================] - 15s 307ms/step - loss: 0.3573 - acc: 0.8564 - val_loss: 0.4560 - val_acc: 0.7604\n",
            "Epoch 21/25\n",
            "50/50 [==============================] - 15s 308ms/step - loss: 0.3586 - acc: 0.8458 - val_loss: 0.4538 - val_acc: 0.7612\n",
            "Epoch 22/25\n",
            "50/50 [==============================] - 15s 308ms/step - loss: 0.3459 - acc: 0.8529 - val_loss: 0.4595 - val_acc: 0.7575\n",
            "Epoch 23/25\n",
            "50/50 [==============================] - 15s 313ms/step - loss: 0.3220 - acc: 0.8705 - val_loss: 0.4475 - val_acc: 0.7672\n",
            "Epoch 24/25\n",
            "50/50 [==============================] - 15s 309ms/step - loss: 0.3205 - acc: 0.8722 - val_loss: 0.4507 - val_acc: 0.7828\n",
            "Epoch 25/25\n",
            "50/50 [==============================] - 15s 310ms/step - loss: 0.3070 - acc: 0.8799 - val_loss: 0.4547 - val_acc: 0.7701\n"
          ],
          "name": "stdout"
        }
      ]
    },
    {
      "cell_type": "code",
      "metadata": {
        "id": "chVztRQT-VUX"
      },
      "source": [
        ""
      ],
      "execution_count": null,
      "outputs": []
    },
    {
      "cell_type": "code",
      "metadata": {
        "colab": {
          "base_uri": "https://localhost:8080/",
          "height": 545
        },
        "id": "AUmeasg_D2PJ",
        "outputId": "20e1332f-922a-4009-d70c-83227f455885"
      },
      "source": [
        "import matplotlib.pyplot as plt\n",
        "acc = history.history['acc']\n",
        "val_acc = history.history['val_acc']\n",
        "loss = history.history['loss']\n",
        "val_loss = history.history['val_loss']\n",
        "epochs = range(1, len(acc) + 1)\n",
        "plt.plot(epochs, acc, 'bo', label='Training acc')\n",
        "plt.plot(epochs, val_acc, 'b', label='Validation acc')\n",
        "plt.title('Training and validation accuracy')\n",
        "plt.legend()\n",
        "plt.figure()\n",
        "plt.plot(epochs, loss, 'bo', label='Training loss')\n",
        "plt.plot(epochs, val_loss, 'b', label='Validation loss')\n",
        "plt.title('Training and validation loss')\n",
        "plt.legend()\n",
        "plt.show()\n"
      ],
      "execution_count": null,
      "outputs": [
        {
          "output_type": "display_data",
          "data": {
            "image/png": "[encoded data removed]",
            "text/plain": [
              "<Figure size 432x288 with 1 Axes>"
            ]
          },
          "metadata": {
            "tags": [],
            "needs_background": "light"
          }
        },
        {
          "output_type": "display_data",
          "data": {
            "image/png": "[encoded data removed]",
            "text/plain": [
              "<Figure size 432x288 with 1 Axes>"
            ]
          },
          "metadata": {
            "tags": [],
            "needs_background": "light"
          }
        }
      ]
    },
    {
      "cell_type": "code",
      "metadata": {
        "id": "Pv1W4a8XD7q7"
      },
      "source": [
        "model.save('male_female_model_75_accuracy.h5')"
      ],
      "execution_count": null,
      "outputs": []
    },
    {
      "cell_type": "code",
      "metadata": {
        "id": "EBBfQI5vESu9"
      },
      "source": [
        "from tensorflow.keras.preprocessing import image\n",
        "import numpy as np"
      ],
      "execution_count": null,
      "outputs": []
    },
    {
      "cell_type": "code",
      "metadata": {
        "id": "VSpEeNbHEZuo"
      },
      "source": [
        "img = image.load_img(\"/content/drive/MyDrive/DEEP_LEARNING _DATASETS/MaleFemale v3.0/Female/100.png\", target_size=(28, 28))\n",
        "x=image.img_to_array(img) / 255\n",
        "resized_img_np = np.expand_dims(x,axis=0)\n",
        "prediction = model.predict(resized_img_np)"
      ],
      "execution_count": null,
      "outputs": []
    },
    {
      "cell_type": "code",
      "metadata": {
        "colab": {
          "base_uri": "https://localhost:8080/"
        },
        "id": "j5VsxE7fE8IN",
        "outputId": "05dd041a-6f78-425b-8171-8ed6613d273e"
      },
      "source": [
        "prediction"
      ],
      "execution_count": null,
      "outputs": [
        {
          "output_type": "execute_result",
          "data": {
            "text/plain": [
              "array([[0.25411224]], dtype=float32)"
            ]
          },
          "metadata": {
            "tags": []
          },
          "execution_count": 23
        }
      ]
    },
    {
      "cell_type": "code",
      "metadata": {
        "id": "uqlTCmMKE-iS"
      },
      "source": [
        ""
      ],
      "execution_count": null,
      "outputs": []
    },
    {
      "cell_type": "code",
      "metadata": {
        "id": "Hnnwn8aWFEcl"
      },
      "source": [
        "img = image.load_img(\"/content/drive/MyDrive/DEEP_LEARNING _DATASETS/MaleFemale v3.0/Male/100.png\", target_size=(28, 28))\n",
        "x=image.img_to_array(img) / 255\n",
        "resized_img_np = np.expand_dims(x,axis=0)\n",
        "prediction = model.predict(resized_img_np)"
      ],
      "execution_count": null,
      "outputs": []
    },
    {
      "cell_type": "code",
      "metadata": {
        "id": "77Sad3DWFLjr",
        "colab": {
          "base_uri": "https://localhost:8080/"
        },
        "outputId": "bc9f643e-1d3a-489e-926f-bd2cce9c5287"
      },
      "source": [
        "prediction"
      ],
      "execution_count": null,
      "outputs": [
        {
          "output_type": "execute_result",
          "data": {
            "text/plain": [
              "array([[0.7887263]], dtype=float32)"
            ]
          },
          "metadata": {
            "tags": []
          },
          "execution_count": 25
        }
      ]
    },
    {
      "cell_type": "code",
      "metadata": {
        "id": "4pqiEy2DFNKS"
      },
      "source": [
        ""
      ],
      "execution_count": null,
      "outputs": []
    }
  ]
}